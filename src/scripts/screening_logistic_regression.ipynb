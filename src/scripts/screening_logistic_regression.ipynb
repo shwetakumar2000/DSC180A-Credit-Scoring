{
 "cells": [
  {
   "cell_type": "code",
   "execution_count": 6,
   "metadata": {},
   "outputs": [],
   "source": [
    "import numpy as np\n",
    "import pandas as pd \n",
    "import os.path\n",
    "from sklearn.linear_model import LogisticRegression\n",
    "from sklearn import model_selection, svm, metrics\n",
    "import matplotlib.pyplot as plt\n",
    "# import tensorflow as tfp"
   ]
  },
  {
   "cell_type": "markdown",
   "metadata": {},
   "source": [
    "# Screening Dataset Logistic Regression"
   ]
  },
  {
   "cell_type": "code",
   "execution_count": 7,
   "metadata": {},
   "outputs": [],
   "source": [
    "data_path = os.path.join(\"..\", \"data\", \"screening\", \"screening_data.csv\")\n",
    "data = pd.read_csv(data_path)\n",
    "training_variables = [\"gender\", \"married\", \"dependents\", \"hasGraduated\", \"selfEmployed\", \n",
    "             \"applicantIncome\", \"coapplicantIncome\", \"loanAmount\", \"loanAmountTerm\",\n",
    "             \"satisfactoryCreditHistory\", \"propertyAreaPopulation\"]"
   ]
  },
  {
   "cell_type": "code",
   "execution_count": 28,
   "metadata": {},
   "outputs": [
    {
     "data": {
      "text/html": [
       "<div>\n",
       "<style scoped>\n",
       "    .dataframe tbody tr th:only-of-type {\n",
       "        vertical-align: middle;\n",
       "    }\n",
       "\n",
       "    .dataframe tbody tr th {\n",
       "        vertical-align: top;\n",
       "    }\n",
       "\n",
       "    .dataframe thead th {\n",
       "        text-align: right;\n",
       "    }\n",
       "</style>\n",
       "<table border=\"1\" class=\"dataframe\">\n",
       "  <thead>\n",
       "    <tr style=\"text-align: right;\">\n",
       "      <th></th>\n",
       "      <th>outcome</th>\n",
       "      <th>gender</th>\n",
       "      <th>married</th>\n",
       "      <th>dependents</th>\n",
       "      <th>hasGraduated</th>\n",
       "      <th>selfEmployed</th>\n",
       "      <th>applicantIncome</th>\n",
       "      <th>coapplicantIncome</th>\n",
       "      <th>loanAmount</th>\n",
       "      <th>loanAmountTerm</th>\n",
       "      <th>satisfactoryCreditHistory</th>\n",
       "      <th>propertyAreaPopulation</th>\n",
       "    </tr>\n",
       "  </thead>\n",
       "  <tbody>\n",
       "    <tr>\n",
       "      <td>0</td>\n",
       "      <td>0</td>\n",
       "      <td>1.0</td>\n",
       "      <td>1</td>\n",
       "      <td>1</td>\n",
       "      <td>1</td>\n",
       "      <td>0</td>\n",
       "      <td>4583</td>\n",
       "      <td>1508.0</td>\n",
       "      <td>128.0</td>\n",
       "      <td>360.0</td>\n",
       "      <td>1</td>\n",
       "      <td>1</td>\n",
       "    </tr>\n",
       "    <tr>\n",
       "      <td>1</td>\n",
       "      <td>1</td>\n",
       "      <td>1.0</td>\n",
       "      <td>1</td>\n",
       "      <td>0</td>\n",
       "      <td>1</td>\n",
       "      <td>1</td>\n",
       "      <td>3000</td>\n",
       "      <td>0.0</td>\n",
       "      <td>66.0</td>\n",
       "      <td>360.0</td>\n",
       "      <td>1</td>\n",
       "      <td>3</td>\n",
       "    </tr>\n",
       "    <tr>\n",
       "      <td>2</td>\n",
       "      <td>1</td>\n",
       "      <td>1.0</td>\n",
       "      <td>1</td>\n",
       "      <td>0</td>\n",
       "      <td>0</td>\n",
       "      <td>0</td>\n",
       "      <td>2583</td>\n",
       "      <td>2358.0</td>\n",
       "      <td>120.0</td>\n",
       "      <td>360.0</td>\n",
       "      <td>1</td>\n",
       "      <td>3</td>\n",
       "    </tr>\n",
       "    <tr>\n",
       "      <td>3</td>\n",
       "      <td>1</td>\n",
       "      <td>1.0</td>\n",
       "      <td>0</td>\n",
       "      <td>0</td>\n",
       "      <td>1</td>\n",
       "      <td>0</td>\n",
       "      <td>6000</td>\n",
       "      <td>0.0</td>\n",
       "      <td>141.0</td>\n",
       "      <td>360.0</td>\n",
       "      <td>1</td>\n",
       "      <td>3</td>\n",
       "    </tr>\n",
       "    <tr>\n",
       "      <td>4</td>\n",
       "      <td>1</td>\n",
       "      <td>1.0</td>\n",
       "      <td>1</td>\n",
       "      <td>2</td>\n",
       "      <td>1</td>\n",
       "      <td>1</td>\n",
       "      <td>5417</td>\n",
       "      <td>4196.0</td>\n",
       "      <td>267.0</td>\n",
       "      <td>360.0</td>\n",
       "      <td>1</td>\n",
       "      <td>3</td>\n",
       "    </tr>\n",
       "  </tbody>\n",
       "</table>\n",
       "</div>"
      ],
      "text/plain": [
       "   outcome  gender  married  dependents  hasGraduated  selfEmployed  \\\n",
       "0        0     1.0        1           1             1             0   \n",
       "1        1     1.0        1           0             1             1   \n",
       "2        1     1.0        1           0             0             0   \n",
       "3        1     1.0        0           0             1             0   \n",
       "4        1     1.0        1           2             1             1   \n",
       "\n",
       "   applicantIncome  coapplicantIncome  loanAmount  loanAmountTerm  \\\n",
       "0             4583             1508.0       128.0           360.0   \n",
       "1             3000                0.0        66.0           360.0   \n",
       "2             2583             2358.0       120.0           360.0   \n",
       "3             6000                0.0       141.0           360.0   \n",
       "4             5417             4196.0       267.0           360.0   \n",
       "\n",
       "   satisfactoryCreditHistory  propertyAreaPopulation  \n",
       "0                          1                       1  \n",
       "1                          1                       3  \n",
       "2                          1                       3  \n",
       "3                          1                       3  \n",
       "4                          1                       3  "
      ]
     },
     "execution_count": 28,
     "metadata": {},
     "output_type": "execute_result"
    }
   ],
   "source": [
    "data.head()"
   ]
  },
  {
   "cell_type": "code",
   "execution_count": 8,
   "metadata": {},
   "outputs": [],
   "source": [
    "X = data[training_variables]\n",
    "y = data[\"outcome\"]"
   ]
  },
  {
   "cell_type": "code",
   "execution_count": 9,
   "metadata": {},
   "outputs": [],
   "source": [
    "def classify(model,x,y):\n",
    "    X_train, X_test, y_train, y_test = model_selection.train_test_split(x,y, test_size=0.25, random_state=42)\n",
    "    model.fit(X_train, y_train)\n",
    "    print('Model',model)\n",
    "    print(\"Accuracy is\", model.score(X_test, y_test)* 100)\n",
    "    # cross  validation for better validation\n",
    "    kfold = model_selection.KFold(n_splits=10,random_state=42, shuffle=True)\n",
    "    score = model_selection.cross_val_score(model, x, y, cv=kfold)\n",
    "    print(\"Cross Val\", np.mean(score)*100)\n",
    "#     ROC curve + AUC\n",
    "    metrics.plot_roc_curve(model, X_train, y_train) \n",
    "    metrics.plot_roc_curve(model, X_test, y_test) "
   ]
  },
  {
   "cell_type": "code",
   "execution_count": 10,
   "metadata": {},
   "outputs": [
    {
     "name": "stdout",
     "output_type": "stream",
     "text": [
      "Model LogisticRegression()\n",
      "Accuracy is 55.55555555555556\n",
      "Cross Val 56.42530313429421\n"
     ]
    },
    {
     "data": {
      "image/png": "[encoded data removed]",
      "text/plain": [
       "<Figure size 432x288 with 1 Axes>"
      ]
     },
     "metadata": {
      "needs_background": "light"
     },
     "output_type": "display_data"
    },
    {
     "data": {
      "image/png": "[encoded data removed]",
      "text/plain": [
       "<Figure size 432x288 with 1 Axes>"
      ]
     },
     "metadata": {
      "needs_background": "light"
     },
     "output_type": "display_data"
    }
   ],
   "source": [
    "classify(LogisticRegression(), X, y)"
   ]
  },
  {
   "cell_type": "code",
   "execution_count": null,
   "metadata": {},
   "outputs": [],
   "source": [
    "# Reliability Diaxgram on Train/Test + ExCE"
   ]
  },
  {
   "cell_type": "code",
   "execution_count": null,
   "metadata": {},
   "outputs": [],
   "source": []
  }
 ],
 "metadata": {
  "kernelspec": {
   "display_name": "Python 3",
   "language": "python",
   "name": "python3"
  },
  "language_info": {
   "codemirror_mode": {
    "name": "ipython",
    "version": 3
   },
   "file_extension": ".py",
   "mimetype": "text/x-python",
   "name": "python",
   "nbconvert_exporter": "python",
   "pygments_lexer": "ipython3",
   "version": "3.7.4"
  }
 },
 "nbformat": 4,
 "nbformat_minor": 2
}
