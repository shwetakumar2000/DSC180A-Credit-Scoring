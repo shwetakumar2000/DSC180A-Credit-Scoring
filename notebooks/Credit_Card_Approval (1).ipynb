{
 "cells": [
  {
   "cell_type": "code",
   "execution_count": 1,
   "metadata": {
    "_cell_guid": "b1076dfc-b9ad-4769-8c92-a6c4dae69d19",
    "_uuid": "8f2839f25d086af736a60e9eeb907d3b93b6e0e5",
    "execution": {
     "iopub.execute_input": "2021-09-09T06:30:04.383089Z",
     "iopub.status.busy": "2021-09-09T06:30:04.38253Z",
     "iopub.status.idle": "2021-09-09T06:30:04.406903Z",
     "shell.execute_reply": "2021-09-09T06:30:04.405917Z",
     "shell.execute_reply.started": "2021-09-09T06:30:04.383003Z"
    }
   },
   "outputs": [],
   "source": [
    "import pandas as pd\n",
    "import numpy as np\n",
    "import matplotlib.pyplot as plt\n",
    "from sklearn.linear_model import LogisticRegression\n",
    "from sklearn.preprocessing import OrdinalEncoder, OneHotEncoder\n",
    "from sklearn import datasets, metrics, model_selection\n",
    "from sklearn.calibration import calibration_curve, CalibrationDisplay"
   ]
  },
  {
   "cell_type": "markdown",
   "metadata": {},
   "source": [
    "Data Set : https://www.kaggle.com/rikdifos/credit-card-approval-prediction"
   ]
  },
  {
   "cell_type": "code",
   "execution_count": 2,
   "metadata": {
    "execution": {
     "iopub.execute_input": "2021-09-09T06:30:04.789684Z",
     "iopub.status.busy": "2021-09-09T06:30:04.789358Z",
     "iopub.status.idle": "2021-09-09T06:30:06.225734Z",
     "shell.execute_reply": "2021-09-09T06:30:06.224779Z",
     "shell.execute_reply.started": "2021-09-09T06:30:04.789658Z"
    }
   },
   "outputs": [
    {
     "data": {
      "text/html": [
       "<div>\n",
       "<style scoped>\n",
       "    .dataframe tbody tr th:only-of-type {\n",
       "        vertical-align: middle;\n",
       "    }\n",
       "\n",
       "    .dataframe tbody tr th {\n",
       "        vertical-align: top;\n",
       "    }\n",
       "\n",
       "    .dataframe thead th {\n",
       "        text-align: right;\n",
       "    }\n",
       "</style>\n",
       "<table border=\"1\" class=\"dataframe\">\n",
       "  <thead>\n",
       "    <tr style=\"text-align: right;\">\n",
       "      <th></th>\n",
       "      <th>ID</th>\n",
       "      <th>CODE_GENDER</th>\n",
       "      <th>FLAG_OWN_CAR</th>\n",
       "      <th>FLAG_OWN_REALTY</th>\n",
       "      <th>CNT_CHILDREN</th>\n",
       "      <th>AMT_INCOME_TOTAL</th>\n",
       "      <th>NAME_INCOME_TYPE</th>\n",
       "      <th>NAME_EDUCATION_TYPE</th>\n",
       "      <th>NAME_FAMILY_STATUS</th>\n",
       "      <th>NAME_HOUSING_TYPE</th>\n",
       "      <th>DAYS_BIRTH</th>\n",
       "      <th>DAYS_EMPLOYED</th>\n",
       "      <th>FLAG_MOBIL</th>\n",
       "      <th>FLAG_WORK_PHONE</th>\n",
       "      <th>FLAG_PHONE</th>\n",
       "      <th>FLAG_EMAIL</th>\n",
       "      <th>OCCUPATION_TYPE</th>\n",
       "      <th>CNT_FAM_MEMBERS</th>\n",
       "    </tr>\n",
       "  </thead>\n",
       "  <tbody>\n",
       "    <tr>\n",
       "      <th>0</th>\n",
       "      <td>5008804</td>\n",
       "      <td>M</td>\n",
       "      <td>Y</td>\n",
       "      <td>Y</td>\n",
       "      <td>0</td>\n",
       "      <td>427500.0</td>\n",
       "      <td>Working</td>\n",
       "      <td>Higher education</td>\n",
       "      <td>Civil marriage</td>\n",
       "      <td>Rented apartment</td>\n",
       "      <td>-12005</td>\n",
       "      <td>-4542</td>\n",
       "      <td>1</td>\n",
       "      <td>1</td>\n",
       "      <td>0</td>\n",
       "      <td>0</td>\n",
       "      <td>NaN</td>\n",
       "      <td>2.0</td>\n",
       "    </tr>\n",
       "    <tr>\n",
       "      <th>1</th>\n",
       "      <td>5008805</td>\n",
       "      <td>M</td>\n",
       "      <td>Y</td>\n",
       "      <td>Y</td>\n",
       "      <td>0</td>\n",
       "      <td>427500.0</td>\n",
       "      <td>Working</td>\n",
       "      <td>Higher education</td>\n",
       "      <td>Civil marriage</td>\n",
       "      <td>Rented apartment</td>\n",
       "      <td>-12005</td>\n",
       "      <td>-4542</td>\n",
       "      <td>1</td>\n",
       "      <td>1</td>\n",
       "      <td>0</td>\n",
       "      <td>0</td>\n",
       "      <td>NaN</td>\n",
       "      <td>2.0</td>\n",
       "    </tr>\n",
       "    <tr>\n",
       "      <th>2</th>\n",
       "      <td>5008806</td>\n",
       "      <td>M</td>\n",
       "      <td>Y</td>\n",
       "      <td>Y</td>\n",
       "      <td>0</td>\n",
       "      <td>112500.0</td>\n",
       "      <td>Working</td>\n",
       "      <td>Secondary / secondary special</td>\n",
       "      <td>Married</td>\n",
       "      <td>House / apartment</td>\n",
       "      <td>-21474</td>\n",
       "      <td>-1134</td>\n",
       "      <td>1</td>\n",
       "      <td>0</td>\n",
       "      <td>0</td>\n",
       "      <td>0</td>\n",
       "      <td>Security staff</td>\n",
       "      <td>2.0</td>\n",
       "    </tr>\n",
       "    <tr>\n",
       "      <th>3</th>\n",
       "      <td>5008808</td>\n",
       "      <td>F</td>\n",
       "      <td>N</td>\n",
       "      <td>Y</td>\n",
       "      <td>0</td>\n",
       "      <td>270000.0</td>\n",
       "      <td>Commercial associate</td>\n",
       "      <td>Secondary / secondary special</td>\n",
       "      <td>Single / not married</td>\n",
       "      <td>House / apartment</td>\n",
       "      <td>-19110</td>\n",
       "      <td>-3051</td>\n",
       "      <td>1</td>\n",
       "      <td>0</td>\n",
       "      <td>1</td>\n",
       "      <td>1</td>\n",
       "      <td>Sales staff</td>\n",
       "      <td>1.0</td>\n",
       "    </tr>\n",
       "    <tr>\n",
       "      <th>4</th>\n",
       "      <td>5008809</td>\n",
       "      <td>F</td>\n",
       "      <td>N</td>\n",
       "      <td>Y</td>\n",
       "      <td>0</td>\n",
       "      <td>270000.0</td>\n",
       "      <td>Commercial associate</td>\n",
       "      <td>Secondary / secondary special</td>\n",
       "      <td>Single / not married</td>\n",
       "      <td>House / apartment</td>\n",
       "      <td>-19110</td>\n",
       "      <td>-3051</td>\n",
       "      <td>1</td>\n",
       "      <td>0</td>\n",
       "      <td>1</td>\n",
       "      <td>1</td>\n",
       "      <td>Sales staff</td>\n",
       "      <td>1.0</td>\n",
       "    </tr>\n",
       "    <tr>\n",
       "      <th>...</th>\n",
       "      <td>...</td>\n",
       "      <td>...</td>\n",
       "      <td>...</td>\n",
       "      <td>...</td>\n",
       "      <td>...</td>\n",
       "      <td>...</td>\n",
       "      <td>...</td>\n",
       "      <td>...</td>\n",
       "      <td>...</td>\n",
       "      <td>...</td>\n",
       "      <td>...</td>\n",
       "      <td>...</td>\n",
       "      <td>...</td>\n",
       "      <td>...</td>\n",
       "      <td>...</td>\n",
       "      <td>...</td>\n",
       "      <td>...</td>\n",
       "      <td>...</td>\n",
       "    </tr>\n",
       "    <tr>\n",
       "      <th>438552</th>\n",
       "      <td>6840104</td>\n",
       "      <td>M</td>\n",
       "      <td>N</td>\n",
       "      <td>Y</td>\n",
       "      <td>0</td>\n",
       "      <td>135000.0</td>\n",
       "      <td>Pensioner</td>\n",
       "      <td>Secondary / secondary special</td>\n",
       "      <td>Separated</td>\n",
       "      <td>House / apartment</td>\n",
       "      <td>-22717</td>\n",
       "      <td>365243</td>\n",
       "      <td>1</td>\n",
       "      <td>0</td>\n",
       "      <td>0</td>\n",
       "      <td>0</td>\n",
       "      <td>NaN</td>\n",
       "      <td>1.0</td>\n",
       "    </tr>\n",
       "    <tr>\n",
       "      <th>438553</th>\n",
       "      <td>6840222</td>\n",
       "      <td>F</td>\n",
       "      <td>N</td>\n",
       "      <td>N</td>\n",
       "      <td>0</td>\n",
       "      <td>103500.0</td>\n",
       "      <td>Working</td>\n",
       "      <td>Secondary / secondary special</td>\n",
       "      <td>Single / not married</td>\n",
       "      <td>House / apartment</td>\n",
       "      <td>-15939</td>\n",
       "      <td>-3007</td>\n",
       "      <td>1</td>\n",
       "      <td>0</td>\n",
       "      <td>0</td>\n",
       "      <td>0</td>\n",
       "      <td>Laborers</td>\n",
       "      <td>1.0</td>\n",
       "    </tr>\n",
       "    <tr>\n",
       "      <th>438554</th>\n",
       "      <td>6841878</td>\n",
       "      <td>F</td>\n",
       "      <td>N</td>\n",
       "      <td>N</td>\n",
       "      <td>0</td>\n",
       "      <td>54000.0</td>\n",
       "      <td>Commercial associate</td>\n",
       "      <td>Higher education</td>\n",
       "      <td>Single / not married</td>\n",
       "      <td>With parents</td>\n",
       "      <td>-8169</td>\n",
       "      <td>-372</td>\n",
       "      <td>1</td>\n",
       "      <td>1</td>\n",
       "      <td>0</td>\n",
       "      <td>0</td>\n",
       "      <td>Sales staff</td>\n",
       "      <td>1.0</td>\n",
       "    </tr>\n",
       "    <tr>\n",
       "      <th>438555</th>\n",
       "      <td>6842765</td>\n",
       "      <td>F</td>\n",
       "      <td>N</td>\n",
       "      <td>Y</td>\n",
       "      <td>0</td>\n",
       "      <td>72000.0</td>\n",
       "      <td>Pensioner</td>\n",
       "      <td>Secondary / secondary special</td>\n",
       "      <td>Married</td>\n",
       "      <td>House / apartment</td>\n",
       "      <td>-21673</td>\n",
       "      <td>365243</td>\n",
       "      <td>1</td>\n",
       "      <td>0</td>\n",
       "      <td>0</td>\n",
       "      <td>0</td>\n",
       "      <td>NaN</td>\n",
       "      <td>2.0</td>\n",
       "    </tr>\n",
       "    <tr>\n",
       "      <th>438556</th>\n",
       "      <td>6842885</td>\n",
       "      <td>F</td>\n",
       "      <td>N</td>\n",
       "      <td>Y</td>\n",
       "      <td>0</td>\n",
       "      <td>121500.0</td>\n",
       "      <td>Working</td>\n",
       "      <td>Secondary / secondary special</td>\n",
       "      <td>Married</td>\n",
       "      <td>House / apartment</td>\n",
       "      <td>-18858</td>\n",
       "      <td>-1201</td>\n",
       "      <td>1</td>\n",
       "      <td>0</td>\n",
       "      <td>1</td>\n",
       "      <td>0</td>\n",
       "      <td>Sales staff</td>\n",
       "      <td>2.0</td>\n",
       "    </tr>\n",
       "  </tbody>\n",
       "</table>\n",
       "<p>438557 rows × 18 columns</p>\n",
       "</div>"
      ],
      "text/plain": [
       "             ID CODE_GENDER FLAG_OWN_CAR FLAG_OWN_REALTY  CNT_CHILDREN  \\\n",
       "0       5008804           M            Y               Y             0   \n",
       "1       5008805           M            Y               Y             0   \n",
       "2       5008806           M            Y               Y             0   \n",
       "3       5008808           F            N               Y             0   \n",
       "4       5008809           F            N               Y             0   \n",
       "...         ...         ...          ...             ...           ...   \n",
       "438552  6840104           M            N               Y             0   \n",
       "438553  6840222           F            N               N             0   \n",
       "438554  6841878           F            N               N             0   \n",
       "438555  6842765           F            N               Y             0   \n",
       "438556  6842885           F            N               Y             0   \n",
       "\n",
       "        AMT_INCOME_TOTAL      NAME_INCOME_TYPE            NAME_EDUCATION_TYPE  \\\n",
       "0               427500.0               Working               Higher education   \n",
       "1               427500.0               Working               Higher education   \n",
       "2               112500.0               Working  Secondary / secondary special   \n",
       "3               270000.0  Commercial associate  Secondary / secondary special   \n",
       "4               270000.0  Commercial associate  Secondary / secondary special   \n",
       "...                  ...                   ...                            ...   \n",
       "438552          135000.0             Pensioner  Secondary / secondary special   \n",
       "438553          103500.0               Working  Secondary / secondary special   \n",
       "438554           54000.0  Commercial associate               Higher education   \n",
       "438555           72000.0             Pensioner  Secondary / secondary special   \n",
       "438556          121500.0               Working  Secondary / secondary special   \n",
       "\n",
       "          NAME_FAMILY_STATUS  NAME_HOUSING_TYPE  DAYS_BIRTH  DAYS_EMPLOYED  \\\n",
       "0             Civil marriage   Rented apartment      -12005          -4542   \n",
       "1             Civil marriage   Rented apartment      -12005          -4542   \n",
       "2                    Married  House / apartment      -21474          -1134   \n",
       "3       Single / not married  House / apartment      -19110          -3051   \n",
       "4       Single / not married  House / apartment      -19110          -3051   \n",
       "...                      ...                ...         ...            ...   \n",
       "438552             Separated  House / apartment      -22717         365243   \n",
       "438553  Single / not married  House / apartment      -15939          -3007   \n",
       "438554  Single / not married       With parents       -8169           -372   \n",
       "438555               Married  House / apartment      -21673         365243   \n",
       "438556               Married  House / apartment      -18858          -1201   \n",
       "\n",
       "        FLAG_MOBIL  FLAG_WORK_PHONE  FLAG_PHONE  FLAG_EMAIL OCCUPATION_TYPE  \\\n",
       "0                1                1           0           0             NaN   \n",
       "1                1                1           0           0             NaN   \n",
       "2                1                0           0           0  Security staff   \n",
       "3                1                0           1           1     Sales staff   \n",
       "4                1                0           1           1     Sales staff   \n",
       "...            ...              ...         ...         ...             ...   \n",
       "438552           1                0           0           0             NaN   \n",
       "438553           1                0           0           0        Laborers   \n",
       "438554           1                1           0           0     Sales staff   \n",
       "438555           1                0           0           0             NaN   \n",
       "438556           1                0           1           0     Sales staff   \n",
       "\n",
       "        CNT_FAM_MEMBERS  \n",
       "0                   2.0  \n",
       "1                   2.0  \n",
       "2                   2.0  \n",
       "3                   1.0  \n",
       "4                   1.0  \n",
       "...                 ...  \n",
       "438552              1.0  \n",
       "438553              1.0  \n",
       "438554              1.0  \n",
       "438555              2.0  \n",
       "438556              2.0  \n",
       "\n",
       "[438557 rows x 18 columns]"
      ]
     },
     "execution_count": 2,
     "metadata": {},
     "output_type": "execute_result"
    }
   ],
   "source": [
    "df = pd.read_csv('application_record.csv',header=0)\n",
    "df"
   ]
  },
  {
   "cell_type": "code",
   "execution_count": 3,
   "metadata": {
    "execution": {
     "iopub.execute_input": "2021-09-09T06:30:06.228531Z",
     "iopub.status.busy": "2021-09-09T06:30:06.228061Z",
     "iopub.status.idle": "2021-09-09T06:30:06.599013Z",
     "shell.execute_reply": "2021-09-09T06:30:06.598338Z",
     "shell.execute_reply.started": "2021-09-09T06:30:06.228487Z"
    }
   },
   "outputs": [
    {
     "data": {
      "text/html": [
       "<div>\n",
       "<style scoped>\n",
       "    .dataframe tbody tr th:only-of-type {\n",
       "        vertical-align: middle;\n",
       "    }\n",
       "\n",
       "    .dataframe tbody tr th {\n",
       "        vertical-align: top;\n",
       "    }\n",
       "\n",
       "    .dataframe thead th {\n",
       "        text-align: right;\n",
       "    }\n",
       "</style>\n",
       "<table border=\"1\" class=\"dataframe\">\n",
       "  <thead>\n",
       "    <tr style=\"text-align: right;\">\n",
       "      <th></th>\n",
       "      <th>ID</th>\n",
       "      <th>MONTHS_BALANCE</th>\n",
       "      <th>STATUS</th>\n",
       "    </tr>\n",
       "  </thead>\n",
       "  <tbody>\n",
       "    <tr>\n",
       "      <th>0</th>\n",
       "      <td>5001711</td>\n",
       "      <td>0</td>\n",
       "      <td>X</td>\n",
       "    </tr>\n",
       "    <tr>\n",
       "      <th>1</th>\n",
       "      <td>5001711</td>\n",
       "      <td>-1</td>\n",
       "      <td>0</td>\n",
       "    </tr>\n",
       "    <tr>\n",
       "      <th>2</th>\n",
       "      <td>5001711</td>\n",
       "      <td>-2</td>\n",
       "      <td>0</td>\n",
       "    </tr>\n",
       "    <tr>\n",
       "      <th>3</th>\n",
       "      <td>5001711</td>\n",
       "      <td>-3</td>\n",
       "      <td>0</td>\n",
       "    </tr>\n",
       "    <tr>\n",
       "      <th>4</th>\n",
       "      <td>5001712</td>\n",
       "      <td>0</td>\n",
       "      <td>C</td>\n",
       "    </tr>\n",
       "    <tr>\n",
       "      <th>...</th>\n",
       "      <td>...</td>\n",
       "      <td>...</td>\n",
       "      <td>...</td>\n",
       "    </tr>\n",
       "    <tr>\n",
       "      <th>1048570</th>\n",
       "      <td>5150487</td>\n",
       "      <td>-25</td>\n",
       "      <td>C</td>\n",
       "    </tr>\n",
       "    <tr>\n",
       "      <th>1048571</th>\n",
       "      <td>5150487</td>\n",
       "      <td>-26</td>\n",
       "      <td>C</td>\n",
       "    </tr>\n",
       "    <tr>\n",
       "      <th>1048572</th>\n",
       "      <td>5150487</td>\n",
       "      <td>-27</td>\n",
       "      <td>C</td>\n",
       "    </tr>\n",
       "    <tr>\n",
       "      <th>1048573</th>\n",
       "      <td>5150487</td>\n",
       "      <td>-28</td>\n",
       "      <td>C</td>\n",
       "    </tr>\n",
       "    <tr>\n",
       "      <th>1048574</th>\n",
       "      <td>5150487</td>\n",
       "      <td>-29</td>\n",
       "      <td>C</td>\n",
       "    </tr>\n",
       "  </tbody>\n",
       "</table>\n",
       "<p>1048575 rows × 3 columns</p>\n",
       "</div>"
      ],
      "text/plain": [
       "              ID  MONTHS_BALANCE STATUS\n",
       "0        5001711               0      X\n",
       "1        5001711              -1      0\n",
       "2        5001711              -2      0\n",
       "3        5001711              -3      0\n",
       "4        5001712               0      C\n",
       "...          ...             ...    ...\n",
       "1048570  5150487             -25      C\n",
       "1048571  5150487             -26      C\n",
       "1048572  5150487             -27      C\n",
       "1048573  5150487             -28      C\n",
       "1048574  5150487             -29      C\n",
       "\n",
       "[1048575 rows x 3 columns]"
      ]
     },
     "execution_count": 3,
     "metadata": {},
     "output_type": "execute_result"
    }
   ],
   "source": [
    "label = pd.read_csv('credit_record.csv',header=0)\n",
    "label"
   ]
  },
  {
   "cell_type": "code",
   "execution_count": 4,
   "metadata": {
    "execution": {
     "iopub.execute_input": "2021-09-09T06:30:06.60132Z",
     "iopub.status.busy": "2021-09-09T06:30:06.600703Z",
     "iopub.status.idle": "2021-09-09T06:30:06.629984Z",
     "shell.execute_reply": "2021-09-09T06:30:06.629163Z",
     "shell.execute_reply.started": "2021-09-09T06:30:06.601261Z"
    }
   },
   "outputs": [],
   "source": [
    "label['STATUS'], labels = pd.factorize(label['STATUS'])"
   ]
  },
  {
   "cell_type": "code",
   "execution_count": 5,
   "metadata": {
    "execution": {
     "iopub.execute_input": "2021-09-09T06:30:06.633748Z",
     "iopub.status.busy": "2021-09-09T06:30:06.633473Z",
     "iopub.status.idle": "2021-09-09T06:30:06.713092Z",
     "shell.execute_reply": "2021-09-09T06:30:06.712039Z",
     "shell.execute_reply.started": "2021-09-09T06:30:06.63372Z"
    }
   },
   "outputs": [
    {
     "data": {
      "text/plain": [
       "Index(['X', '0', 'C', '1', '2', '3', '4', '5'], dtype='object')"
      ]
     },
     "execution_count": 5,
     "metadata": {},
     "output_type": "execute_result"
    }
   ],
   "source": [
    "labels"
   ]
  },
  {
   "cell_type": "code",
   "execution_count": 6,
   "metadata": {
    "execution": {
     "iopub.execute_input": "2021-09-09T06:30:06.715076Z",
     "iopub.status.busy": "2021-09-09T06:30:06.714693Z",
     "iopub.status.idle": "2021-09-09T06:30:06.795148Z",
     "shell.execute_reply": "2021-09-09T06:30:06.794333Z",
     "shell.execute_reply.started": "2021-09-09T06:30:06.715034Z"
    }
   },
   "outputs": [
    {
     "data": {
      "text/html": [
       "<div>\n",
       "<style scoped>\n",
       "    .dataframe tbody tr th:only-of-type {\n",
       "        vertical-align: middle;\n",
       "    }\n",
       "\n",
       "    .dataframe tbody tr th {\n",
       "        vertical-align: top;\n",
       "    }\n",
       "\n",
       "    .dataframe thead th {\n",
       "        text-align: right;\n",
       "    }\n",
       "</style>\n",
       "<table border=\"1\" class=\"dataframe\">\n",
       "  <thead>\n",
       "    <tr style=\"text-align: right;\">\n",
       "      <th></th>\n",
       "      <th>ID</th>\n",
       "      <th>MONTHS_BALANCE</th>\n",
       "      <th>STATUS</th>\n",
       "    </tr>\n",
       "  </thead>\n",
       "  <tbody>\n",
       "    <tr>\n",
       "      <th>1</th>\n",
       "      <td>5001711</td>\n",
       "      <td>-1</td>\n",
       "      <td>1</td>\n",
       "    </tr>\n",
       "    <tr>\n",
       "      <th>2</th>\n",
       "      <td>5001711</td>\n",
       "      <td>-2</td>\n",
       "      <td>1</td>\n",
       "    </tr>\n",
       "    <tr>\n",
       "      <th>3</th>\n",
       "      <td>5001711</td>\n",
       "      <td>-3</td>\n",
       "      <td>1</td>\n",
       "    </tr>\n",
       "    <tr>\n",
       "      <th>4</th>\n",
       "      <td>5001712</td>\n",
       "      <td>0</td>\n",
       "      <td>2</td>\n",
       "    </tr>\n",
       "    <tr>\n",
       "      <th>5</th>\n",
       "      <td>5001712</td>\n",
       "      <td>-1</td>\n",
       "      <td>2</td>\n",
       "    </tr>\n",
       "    <tr>\n",
       "      <th>...</th>\n",
       "      <td>...</td>\n",
       "      <td>...</td>\n",
       "      <td>...</td>\n",
       "    </tr>\n",
       "    <tr>\n",
       "      <th>1048570</th>\n",
       "      <td>5150487</td>\n",
       "      <td>-25</td>\n",
       "      <td>2</td>\n",
       "    </tr>\n",
       "    <tr>\n",
       "      <th>1048571</th>\n",
       "      <td>5150487</td>\n",
       "      <td>-26</td>\n",
       "      <td>2</td>\n",
       "    </tr>\n",
       "    <tr>\n",
       "      <th>1048572</th>\n",
       "      <td>5150487</td>\n",
       "      <td>-27</td>\n",
       "      <td>2</td>\n",
       "    </tr>\n",
       "    <tr>\n",
       "      <th>1048573</th>\n",
       "      <td>5150487</td>\n",
       "      <td>-28</td>\n",
       "      <td>2</td>\n",
       "    </tr>\n",
       "    <tr>\n",
       "      <th>1048574</th>\n",
       "      <td>5150487</td>\n",
       "      <td>-29</td>\n",
       "      <td>2</td>\n",
       "    </tr>\n",
       "  </tbody>\n",
       "</table>\n",
       "<p>839345 rows × 3 columns</p>\n",
       "</div>"
      ],
      "text/plain": [
       "              ID  MONTHS_BALANCE  STATUS\n",
       "1        5001711              -1       1\n",
       "2        5001711              -2       1\n",
       "3        5001711              -3       1\n",
       "4        5001712               0       2\n",
       "5        5001712              -1       2\n",
       "...          ...             ...     ...\n",
       "1048570  5150487             -25       2\n",
       "1048571  5150487             -26       2\n",
       "1048572  5150487             -27       2\n",
       "1048573  5150487             -28       2\n",
       "1048574  5150487             -29       2\n",
       "\n",
       "[839345 rows x 3 columns]"
      ]
     },
     "execution_count": 6,
     "metadata": {},
     "output_type": "execute_result"
    }
   ],
   "source": [
    "label_clean = label[label['STATUS'] != 0]\n",
    "label_clean"
   ]
  },
  {
   "cell_type": "code",
   "execution_count": 8,
   "metadata": {
    "execution": {
     "iopub.execute_input": "2021-09-09T06:30:06.796985Z",
     "iopub.status.busy": "2021-09-09T06:30:06.79662Z",
     "iopub.status.idle": "2021-09-09T06:30:06.803672Z",
     "shell.execute_reply": "2021-09-09T06:30:06.802867Z",
     "shell.execute_reply.started": "2021-09-09T06:30:06.796945Z"
    }
   },
   "outputs": [],
   "source": [
    "label_clean = label[label['STATUS'] != 0]"
   ]
  },
  {
   "cell_type": "code",
   "execution_count": 9,
   "metadata": {
    "execution": {
     "iopub.execute_input": "2021-09-09T06:30:06.804893Z",
     "iopub.status.busy": "2021-09-09T06:30:06.804623Z",
     "iopub.status.idle": "2021-09-09T06:30:06.877961Z",
     "shell.execute_reply": "2021-09-09T06:30:06.877302Z",
     "shell.execute_reply.started": "2021-09-09T06:30:06.804868Z"
    }
   },
   "outputs": [
    {
     "name": "stderr",
     "output_type": "stream",
     "text": [
      "/opt/conda/lib/python3.9/site-packages/pandas/core/generic.py:8870: SettingWithCopyWarning: \n",
      "A value is trying to be set on a copy of a slice from a DataFrame\n",
      "\n",
      "See the caveats in the documentation: https://pandas.pydata.org/pandas-docs/stable/user_guide/indexing.html#returning-a-view-versus-a-copy\n",
      "  return self._update_inplace(result)\n"
     ]
    }
   ],
   "source": [
    "label_clean['STATUS'][label['STATUS'] > 2] = 100"
   ]
  },
  {
   "cell_type": "code",
   "execution_count": 10,
   "metadata": {
    "execution": {
     "iopub.execute_input": "2021-09-09T06:30:06.880552Z",
     "iopub.status.busy": "2021-09-09T06:30:06.879995Z",
     "iopub.status.idle": "2021-09-09T06:30:06.92232Z",
     "shell.execute_reply": "2021-09-09T06:30:06.921284Z",
     "shell.execute_reply.started": "2021-09-09T06:30:06.880507Z"
    }
   },
   "outputs": [],
   "source": [
    "label_clean['STATUS'][label['STATUS'] <= 2] = 0"
   ]
  },
  {
   "cell_type": "code",
   "execution_count": 11,
   "metadata": {
    "execution": {
     "iopub.execute_input": "2021-09-09T06:30:06.924413Z",
     "iopub.status.busy": "2021-09-09T06:30:06.923821Z",
     "iopub.status.idle": "2021-09-09T06:30:06.956429Z",
     "shell.execute_reply": "2021-09-09T06:30:06.955459Z",
     "shell.execute_reply.started": "2021-09-09T06:30:06.924369Z"
    }
   },
   "outputs": [],
   "source": [
    "label_clean['STATUS'][label['STATUS'] <= 2] = 0"
   ]
  },
  {
   "cell_type": "code",
   "execution_count": 12,
   "metadata": {
    "execution": {
     "iopub.execute_input": "2021-09-09T06:30:06.957907Z",
     "iopub.status.busy": "2021-09-09T06:30:06.957641Z",
     "iopub.status.idle": "2021-09-09T06:30:06.978258Z",
     "shell.execute_reply": "2021-09-09T06:30:06.977339Z",
     "shell.execute_reply.started": "2021-09-09T06:30:06.957879Z"
    }
   },
   "outputs": [
    {
     "data": {
      "text/plain": [
       "STATUS\n",
       "0      825151\n",
       "100     14194\n",
       "Name: STATUS, dtype: int64"
      ]
     },
     "execution_count": 12,
     "metadata": {},
     "output_type": "execute_result"
    }
   ],
   "source": [
    "label_clean.groupby('STATUS')['STATUS'].count()"
   ]
  },
  {
   "cell_type": "code",
   "execution_count": 16,
   "metadata": {
    "execution": {
     "iopub.execute_input": "2021-09-09T06:30:06.979614Z",
     "iopub.status.busy": "2021-09-09T06:30:06.979364Z",
     "iopub.status.idle": "2021-09-09T06:30:07.031098Z",
     "shell.execute_reply": "2021-09-09T06:30:07.03028Z",
     "shell.execute_reply.started": "2021-09-09T06:30:06.979589Z"
    }
   },
   "outputs": [
    {
     "data": {
      "text/html": [
       "<div>\n",
       "<style scoped>\n",
       "    .dataframe tbody tr th:only-of-type {\n",
       "        vertical-align: middle;\n",
       "    }\n",
       "\n",
       "    .dataframe tbody tr th {\n",
       "        vertical-align: top;\n",
       "    }\n",
       "\n",
       "    .dataframe thead th {\n",
       "        text-align: right;\n",
       "    }\n",
       "</style>\n",
       "<table border=\"1\" class=\"dataframe\">\n",
       "  <thead>\n",
       "    <tr style=\"text-align: right;\">\n",
       "      <th></th>\n",
       "      <th>MONTHS_BALANCE</th>\n",
       "      <th>STATUS</th>\n",
       "    </tr>\n",
       "    <tr>\n",
       "      <th>ID</th>\n",
       "      <th></th>\n",
       "      <th></th>\n",
       "    </tr>\n",
       "  </thead>\n",
       "  <tbody>\n",
       "    <tr>\n",
       "      <th>5001711</th>\n",
       "      <td>-2.000000</td>\n",
       "      <td>0.000000</td>\n",
       "    </tr>\n",
       "    <tr>\n",
       "      <th>5001712</th>\n",
       "      <td>-9.000000</td>\n",
       "      <td>0.000000</td>\n",
       "    </tr>\n",
       "    <tr>\n",
       "      <th>5001717</th>\n",
       "      <td>-10.500000</td>\n",
       "      <td>0.000000</td>\n",
       "    </tr>\n",
       "    <tr>\n",
       "      <th>5001718</th>\n",
       "      <td>-18.724138</td>\n",
       "      <td>6.896552</td>\n",
       "    </tr>\n",
       "    <tr>\n",
       "      <th>5001719</th>\n",
       "      <td>-21.000000</td>\n",
       "      <td>0.000000</td>\n",
       "    </tr>\n",
       "    <tr>\n",
       "      <th>...</th>\n",
       "      <td>...</td>\n",
       "      <td>...</td>\n",
       "    </tr>\n",
       "    <tr>\n",
       "      <th>5150480</th>\n",
       "      <td>-36.500000</td>\n",
       "      <td>0.000000</td>\n",
       "    </tr>\n",
       "    <tr>\n",
       "      <th>5150482</th>\n",
       "      <td>-19.500000</td>\n",
       "      <td>0.000000</td>\n",
       "    </tr>\n",
       "    <tr>\n",
       "      <th>5150484</th>\n",
       "      <td>-6.000000</td>\n",
       "      <td>0.000000</td>\n",
       "    </tr>\n",
       "    <tr>\n",
       "      <th>5150485</th>\n",
       "      <td>-0.500000</td>\n",
       "      <td>0.000000</td>\n",
       "    </tr>\n",
       "    <tr>\n",
       "      <th>5150487</th>\n",
       "      <td>-14.500000</td>\n",
       "      <td>0.000000</td>\n",
       "    </tr>\n",
       "  </tbody>\n",
       "</table>\n",
       "<p>41449 rows × 2 columns</p>\n",
       "</div>"
      ],
      "text/plain": [
       "         MONTHS_BALANCE    STATUS\n",
       "ID                               \n",
       "5001711       -2.000000  0.000000\n",
       "5001712       -9.000000  0.000000\n",
       "5001717      -10.500000  0.000000\n",
       "5001718      -18.724138  6.896552\n",
       "5001719      -21.000000  0.000000\n",
       "...                 ...       ...\n",
       "5150480      -36.500000  0.000000\n",
       "5150482      -19.500000  0.000000\n",
       "5150484       -6.000000  0.000000\n",
       "5150485       -0.500000  0.000000\n",
       "5150487      -14.500000  0.000000\n",
       "\n",
       "[41449 rows x 2 columns]"
      ]
     },
     "execution_count": 16,
     "metadata": {},
     "output_type": "execute_result"
    }
   ],
   "source": [
    "label_clean.groupby('ID').mean() #get average income for each ID "
   ]
  },
  {
   "cell_type": "code",
   "execution_count": 17,
   "metadata": {
    "execution": {
     "iopub.execute_input": "2021-09-09T06:30:07.032633Z",
     "iopub.status.busy": "2021-09-09T06:30:07.032375Z",
     "iopub.status.idle": "2021-09-09T06:30:07.065808Z",
     "shell.execute_reply": "2021-09-09T06:30:07.064951Z",
     "shell.execute_reply.started": "2021-09-09T06:30:07.032608Z"
    }
   },
   "outputs": [],
   "source": [
    "label_grouped = label_clean.groupby('ID').mean()"
   ]
  },
  {
   "cell_type": "code",
   "execution_count": 19,
   "metadata": {
    "execution": {
     "iopub.execute_input": "2021-09-09T06:30:07.067538Z",
     "iopub.status.busy": "2021-09-09T06:30:07.06724Z",
     "iopub.status.idle": "2021-09-09T06:30:07.077438Z",
     "shell.execute_reply": "2021-09-09T06:30:07.076403Z",
     "shell.execute_reply.started": "2021-09-09T06:30:07.06751Z"
    }
   },
   "outputs": [],
   "source": [
    "label_grouped['STATUS'][label_grouped['STATUS'] > 0] = 1\n",
    "label_grouped['STATUS'][label_grouped['STATUS'] <= 0] = 0"
   ]
  },
  {
   "cell_type": "code",
   "execution_count": 20,
   "metadata": {
    "execution": {
     "iopub.execute_input": "2021-09-09T06:30:07.247307Z",
     "iopub.status.busy": "2021-09-09T06:30:07.246931Z",
     "iopub.status.idle": "2021-09-09T06:30:07.255828Z",
     "shell.execute_reply": "2021-09-09T06:30:07.254799Z",
     "shell.execute_reply.started": "2021-09-09T06:30:07.247258Z"
    }
   },
   "outputs": [
    {
     "data": {
      "text/plain": [
       "STATUS\n",
       "0.0    36099\n",
       "1.0     5350\n",
       "Name: STATUS, dtype: int64"
      ]
     },
     "execution_count": 20,
     "metadata": {},
     "output_type": "execute_result"
    }
   ],
   "source": [
    "label_grouped.groupby('STATUS')['STATUS'].count()"
   ]
  },
  {
   "cell_type": "code",
   "execution_count": 21,
   "metadata": {
    "execution": {
     "iopub.execute_input": "2021-09-09T06:30:07.420339Z",
     "iopub.status.busy": "2021-09-09T06:30:07.419828Z",
     "iopub.status.idle": "2021-09-09T06:30:07.431821Z",
     "shell.execute_reply": "2021-09-09T06:30:07.430891Z",
     "shell.execute_reply.started": "2021-09-09T06:30:07.420294Z"
    }
   },
   "outputs": [
    {
     "data": {
      "text/html": [
       "<div>\n",
       "<style scoped>\n",
       "    .dataframe tbody tr th:only-of-type {\n",
       "        vertical-align: middle;\n",
       "    }\n",
       "\n",
       "    .dataframe tbody tr th {\n",
       "        vertical-align: top;\n",
       "    }\n",
       "\n",
       "    .dataframe thead th {\n",
       "        text-align: right;\n",
       "    }\n",
       "</style>\n",
       "<table border=\"1\" class=\"dataframe\">\n",
       "  <thead>\n",
       "    <tr style=\"text-align: right;\">\n",
       "      <th></th>\n",
       "      <th>MONTHS_BALANCE</th>\n",
       "      <th>STATUS</th>\n",
       "    </tr>\n",
       "    <tr>\n",
       "      <th>ID</th>\n",
       "      <th></th>\n",
       "      <th></th>\n",
       "    </tr>\n",
       "  </thead>\n",
       "  <tbody>\n",
       "    <tr>\n",
       "      <th>5001711</th>\n",
       "      <td>-2.000000</td>\n",
       "      <td>0.0</td>\n",
       "    </tr>\n",
       "    <tr>\n",
       "      <th>5001712</th>\n",
       "      <td>-9.000000</td>\n",
       "      <td>0.0</td>\n",
       "    </tr>\n",
       "    <tr>\n",
       "      <th>5001717</th>\n",
       "      <td>-10.500000</td>\n",
       "      <td>0.0</td>\n",
       "    </tr>\n",
       "    <tr>\n",
       "      <th>5001718</th>\n",
       "      <td>-18.724138</td>\n",
       "      <td>1.0</td>\n",
       "    </tr>\n",
       "    <tr>\n",
       "      <th>5001719</th>\n",
       "      <td>-21.000000</td>\n",
       "      <td>0.0</td>\n",
       "    </tr>\n",
       "    <tr>\n",
       "      <th>...</th>\n",
       "      <td>...</td>\n",
       "      <td>...</td>\n",
       "    </tr>\n",
       "    <tr>\n",
       "      <th>5150480</th>\n",
       "      <td>-36.500000</td>\n",
       "      <td>0.0</td>\n",
       "    </tr>\n",
       "    <tr>\n",
       "      <th>5150482</th>\n",
       "      <td>-19.500000</td>\n",
       "      <td>0.0</td>\n",
       "    </tr>\n",
       "    <tr>\n",
       "      <th>5150484</th>\n",
       "      <td>-6.000000</td>\n",
       "      <td>0.0</td>\n",
       "    </tr>\n",
       "    <tr>\n",
       "      <th>5150485</th>\n",
       "      <td>-0.500000</td>\n",
       "      <td>0.0</td>\n",
       "    </tr>\n",
       "    <tr>\n",
       "      <th>5150487</th>\n",
       "      <td>-14.500000</td>\n",
       "      <td>0.0</td>\n",
       "    </tr>\n",
       "  </tbody>\n",
       "</table>\n",
       "<p>41449 rows × 2 columns</p>\n",
       "</div>"
      ],
      "text/plain": [
       "         MONTHS_BALANCE  STATUS\n",
       "ID                             \n",
       "5001711       -2.000000     0.0\n",
       "5001712       -9.000000     0.0\n",
       "5001717      -10.500000     0.0\n",
       "5001718      -18.724138     1.0\n",
       "5001719      -21.000000     0.0\n",
       "...                 ...     ...\n",
       "5150480      -36.500000     0.0\n",
       "5150482      -19.500000     0.0\n",
       "5150484       -6.000000     0.0\n",
       "5150485       -0.500000     0.0\n",
       "5150487      -14.500000     0.0\n",
       "\n",
       "[41449 rows x 2 columns]"
      ]
     },
     "execution_count": 21,
     "metadata": {},
     "output_type": "execute_result"
    }
   ],
   "source": [
    "label_grouped"
   ]
  },
  {
   "cell_type": "code",
   "execution_count": 40,
   "metadata": {
    "execution": {
     "iopub.execute_input": "2021-09-09T06:30:07.593685Z",
     "iopub.status.busy": "2021-09-09T06:30:07.593352Z",
     "iopub.status.idle": "2021-09-09T06:30:07.597796Z",
     "shell.execute_reply": "2021-09-09T06:30:07.596758Z",
     "shell.execute_reply.started": "2021-09-09T06:30:07.593655Z"
    }
   },
   "outputs": [],
   "source": [
    "df_clean = df.dropna(axis = 0)\n",
    "df_clean = df_clean.drop(['DAYS_BIRTH', 'FLAG_EMAIL', 'FLAG_WORK_PHONE', 'FLAG_PHONE', 'FLAG_MOBIL','CODE_GENDER'], axis = 1)"
   ]
  },
  {
   "cell_type": "code",
   "execution_count": 50,
   "metadata": {
    "execution": {
     "iopub.execute_input": "2021-09-09T06:30:07.790706Z",
     "iopub.status.busy": "2021-09-09T06:30:07.790128Z",
     "iopub.status.idle": "2021-09-09T06:30:07.934302Z",
     "shell.execute_reply": "2021-09-09T06:30:07.933403Z",
     "shell.execute_reply.started": "2021-09-09T06:30:07.79067Z"
    }
   },
   "outputs": [
    {
     "data": {
      "text/plain": [
       "MONTHS_BALANCE    False\n",
       "STATUS            False\n",
       "dtype: bool"
      ]
     },
     "execution_count": 50,
     "metadata": {},
     "output_type": "execute_result"
    }
   ],
   "source": [
    "df_clean.isnull().any()\n",
    "label_grouped.isnull().any()"
   ]
  },
  {
   "cell_type": "code",
   "execution_count": 55,
   "metadata": {},
   "outputs": [
    {
     "data": {
      "text/plain": [
       "MONTHS_BALANCE    float64\n",
       "STATUS            float64\n",
       "dtype: object"
      ]
     },
     "execution_count": 55,
     "metadata": {},
     "output_type": "execute_result"
    }
   ],
   "source": [
    "df_clean.dtypes\n",
    "label_grouped.dtypes"
   ]
  },
  {
   "cell_type": "code",
   "execution_count": 56,
   "metadata": {
    "execution": {
     "iopub.execute_input": "2021-09-09T06:30:08.025105Z",
     "iopub.status.busy": "2021-09-09T06:30:08.02479Z",
     "iopub.status.idle": "2021-09-09T06:30:08.164258Z",
     "shell.execute_reply": "2021-09-09T06:30:08.163403Z",
     "shell.execute_reply.started": "2021-09-09T06:30:08.025076Z"
    }
   },
   "outputs": [],
   "source": [
    "factor_cols = ['FLAG_OWN_CAR','NAME_INCOME_TYPE','NAME_FAMILY_STATUS', 'NAME_HOUSING_TYPE', 'OCCUPATION_TYPE',\n",
    "        'FLAG_OWN_REALTY','NAME_EDUCATION_TYPE']\n",
    "for i in factor_cols: \n",
    "    df_clean[i] = pd.factorize(df_clean[i])[0]"
   ]
  },
  {
   "cell_type": "code",
   "execution_count": 57,
   "metadata": {
    "execution": {
     "iopub.execute_input": "2021-09-09T06:30:08.166836Z",
     "iopub.status.busy": "2021-09-09T06:30:08.166444Z",
     "iopub.status.idle": "2021-09-09T06:30:08.223796Z",
     "shell.execute_reply": "2021-09-09T06:30:08.22293Z",
     "shell.execute_reply.started": "2021-09-09T06:30:08.166794Z"
    }
   },
   "outputs": [],
   "source": [
    "df_clean.to_csv('processed_application_records.csv', index = False)"
   ]
  },
  {
   "cell_type": "code",
   "execution_count": 58,
   "metadata": {
    "execution": {
     "iopub.execute_input": "2021-09-09T06:30:08.394165Z",
     "iopub.status.busy": "2021-09-09T06:30:08.393847Z",
     "iopub.status.idle": "2021-09-09T06:30:08.575626Z",
     "shell.execute_reply": "2021-09-09T06:30:08.574495Z",
     "shell.execute_reply.started": "2021-09-09T06:30:08.394135Z"
    }
   },
   "outputs": [],
   "source": [
    "label_clean.to_csv('processed_credit_records.csv', index = False)"
   ]
  },
  {
   "cell_type": "code",
   "execution_count": 59,
   "metadata": {},
   "outputs": [
    {
     "data": {
      "text/html": [
       "<div>\n",
       "<style scoped>\n",
       "    .dataframe tbody tr th:only-of-type {\n",
       "        vertical-align: middle;\n",
       "    }\n",
       "\n",
       "    .dataframe tbody tr th {\n",
       "        vertical-align: top;\n",
       "    }\n",
       "\n",
       "    .dataframe thead th {\n",
       "        text-align: right;\n",
       "    }\n",
       "</style>\n",
       "<table border=\"1\" class=\"dataframe\">\n",
       "  <thead>\n",
       "    <tr style=\"text-align: right;\">\n",
       "      <th></th>\n",
       "      <th>FLAG_OWN_CAR</th>\n",
       "      <th>FLAG_OWN_REALTY</th>\n",
       "      <th>CNT_CHILDREN</th>\n",
       "      <th>AMT_INCOME_TOTAL</th>\n",
       "      <th>NAME_INCOME_TYPE</th>\n",
       "      <th>NAME_EDUCATION_TYPE</th>\n",
       "      <th>NAME_FAMILY_STATUS</th>\n",
       "      <th>NAME_HOUSING_TYPE</th>\n",
       "      <th>DAYS_EMPLOYED</th>\n",
       "      <th>OCCUPATION_TYPE</th>\n",
       "      <th>CNT_FAM_MEMBERS</th>\n",
       "      <th>MONTHS_BALANCE</th>\n",
       "      <th>STATUS</th>\n",
       "    </tr>\n",
       "  </thead>\n",
       "  <tbody>\n",
       "    <tr>\n",
       "      <th>0</th>\n",
       "      <td>0</td>\n",
       "      <td>0</td>\n",
       "      <td>0</td>\n",
       "      <td>112500.0</td>\n",
       "      <td>0</td>\n",
       "      <td>0</td>\n",
       "      <td>0</td>\n",
       "      <td>0</td>\n",
       "      <td>-1134</td>\n",
       "      <td>0</td>\n",
       "      <td>2.0</td>\n",
       "      <td>-9.571429</td>\n",
       "      <td>0.0</td>\n",
       "    </tr>\n",
       "    <tr>\n",
       "      <th>1</th>\n",
       "      <td>1</td>\n",
       "      <td>0</td>\n",
       "      <td>0</td>\n",
       "      <td>270000.0</td>\n",
       "      <td>1</td>\n",
       "      <td>0</td>\n",
       "      <td>1</td>\n",
       "      <td>0</td>\n",
       "      <td>-3051</td>\n",
       "      <td>1</td>\n",
       "      <td>1.0</td>\n",
       "      <td>-1.000000</td>\n",
       "      <td>0.0</td>\n",
       "    </tr>\n",
       "    <tr>\n",
       "      <th>2</th>\n",
       "      <td>1</td>\n",
       "      <td>0</td>\n",
       "      <td>0</td>\n",
       "      <td>270000.0</td>\n",
       "      <td>1</td>\n",
       "      <td>0</td>\n",
       "      <td>1</td>\n",
       "      <td>0</td>\n",
       "      <td>-3051</td>\n",
       "      <td>1</td>\n",
       "      <td>1.0</td>\n",
       "      <td>-10.761905</td>\n",
       "      <td>0.0</td>\n",
       "    </tr>\n",
       "    <tr>\n",
       "      <th>3</th>\n",
       "      <td>1</td>\n",
       "      <td>0</td>\n",
       "      <td>0</td>\n",
       "      <td>270000.0</td>\n",
       "      <td>1</td>\n",
       "      <td>0</td>\n",
       "      <td>1</td>\n",
       "      <td>0</td>\n",
       "      <td>-3051</td>\n",
       "      <td>1</td>\n",
       "      <td>1.0</td>\n",
       "      <td>-16.484848</td>\n",
       "      <td>0.0</td>\n",
       "    </tr>\n",
       "    <tr>\n",
       "      <th>4</th>\n",
       "      <td>0</td>\n",
       "      <td>0</td>\n",
       "      <td>0</td>\n",
       "      <td>270000.0</td>\n",
       "      <td>0</td>\n",
       "      <td>1</td>\n",
       "      <td>0</td>\n",
       "      <td>0</td>\n",
       "      <td>-769</td>\n",
       "      <td>2</td>\n",
       "      <td>2.0</td>\n",
       "      <td>-2.500000</td>\n",
       "      <td>0.0</td>\n",
       "    </tr>\n",
       "    <tr>\n",
       "      <th>...</th>\n",
       "      <td>...</td>\n",
       "      <td>...</td>\n",
       "      <td>...</td>\n",
       "      <td>...</td>\n",
       "      <td>...</td>\n",
       "      <td>...</td>\n",
       "      <td>...</td>\n",
       "      <td>...</td>\n",
       "      <td>...</td>\n",
       "      <td>...</td>\n",
       "      <td>...</td>\n",
       "      <td>...</td>\n",
       "      <td>...</td>\n",
       "    </tr>\n",
       "    <tr>\n",
       "      <th>22732</th>\n",
       "      <td>0</td>\n",
       "      <td>0</td>\n",
       "      <td>0</td>\n",
       "      <td>315000.0</td>\n",
       "      <td>0</td>\n",
       "      <td>0</td>\n",
       "      <td>0</td>\n",
       "      <td>0</td>\n",
       "      <td>-2420</td>\n",
       "      <td>4</td>\n",
       "      <td>2.0</td>\n",
       "      <td>-2.000000</td>\n",
       "      <td>1.0</td>\n",
       "    </tr>\n",
       "    <tr>\n",
       "      <th>22733</th>\n",
       "      <td>1</td>\n",
       "      <td>0</td>\n",
       "      <td>0</td>\n",
       "      <td>157500.0</td>\n",
       "      <td>1</td>\n",
       "      <td>1</td>\n",
       "      <td>0</td>\n",
       "      <td>0</td>\n",
       "      <td>-1325</td>\n",
       "      <td>12</td>\n",
       "      <td>2.0</td>\n",
       "      <td>-11.500000</td>\n",
       "      <td>1.0</td>\n",
       "    </tr>\n",
       "    <tr>\n",
       "      <th>22734</th>\n",
       "      <td>1</td>\n",
       "      <td>0</td>\n",
       "      <td>0</td>\n",
       "      <td>157500.0</td>\n",
       "      <td>4</td>\n",
       "      <td>1</td>\n",
       "      <td>0</td>\n",
       "      <td>0</td>\n",
       "      <td>-1325</td>\n",
       "      <td>12</td>\n",
       "      <td>2.0</td>\n",
       "      <td>-16.000000</td>\n",
       "      <td>1.0</td>\n",
       "    </tr>\n",
       "    <tr>\n",
       "      <th>22735</th>\n",
       "      <td>1</td>\n",
       "      <td>0</td>\n",
       "      <td>0</td>\n",
       "      <td>283500.0</td>\n",
       "      <td>0</td>\n",
       "      <td>0</td>\n",
       "      <td>0</td>\n",
       "      <td>0</td>\n",
       "      <td>-655</td>\n",
       "      <td>1</td>\n",
       "      <td>2.0</td>\n",
       "      <td>-4.500000</td>\n",
       "      <td>1.0</td>\n",
       "    </tr>\n",
       "    <tr>\n",
       "      <th>22736</th>\n",
       "      <td>1</td>\n",
       "      <td>0</td>\n",
       "      <td>0</td>\n",
       "      <td>112500.0</td>\n",
       "      <td>0</td>\n",
       "      <td>0</td>\n",
       "      <td>1</td>\n",
       "      <td>1</td>\n",
       "      <td>-1193</td>\n",
       "      <td>3</td>\n",
       "      <td>1.0</td>\n",
       "      <td>-6.500000</td>\n",
       "      <td>1.0</td>\n",
       "    </tr>\n",
       "  </tbody>\n",
       "</table>\n",
       "<p>22737 rows × 13 columns</p>\n",
       "</div>"
      ],
      "text/plain": [
       "       FLAG_OWN_CAR  FLAG_OWN_REALTY  CNT_CHILDREN  AMT_INCOME_TOTAL  \\\n",
       "0                 0                0             0          112500.0   \n",
       "1                 1                0             0          270000.0   \n",
       "2                 1                0             0          270000.0   \n",
       "3                 1                0             0          270000.0   \n",
       "4                 0                0             0          270000.0   \n",
       "...             ...              ...           ...               ...   \n",
       "22732             0                0             0          315000.0   \n",
       "22733             1                0             0          157500.0   \n",
       "22734             1                0             0          157500.0   \n",
       "22735             1                0             0          283500.0   \n",
       "22736             1                0             0          112500.0   \n",
       "\n",
       "       NAME_INCOME_TYPE  NAME_EDUCATION_TYPE  NAME_FAMILY_STATUS  \\\n",
       "0                     0                    0                   0   \n",
       "1                     1                    0                   1   \n",
       "2                     1                    0                   1   \n",
       "3                     1                    0                   1   \n",
       "4                     0                    1                   0   \n",
       "...                 ...                  ...                 ...   \n",
       "22732                 0                    0                   0   \n",
       "22733                 1                    1                   0   \n",
       "22734                 4                    1                   0   \n",
       "22735                 0                    0                   0   \n",
       "22736                 0                    0                   1   \n",
       "\n",
       "       NAME_HOUSING_TYPE  DAYS_EMPLOYED  OCCUPATION_TYPE  CNT_FAM_MEMBERS  \\\n",
       "0                      0          -1134                0              2.0   \n",
       "1                      0          -3051                1              1.0   \n",
       "2                      0          -3051                1              1.0   \n",
       "3                      0          -3051                1              1.0   \n",
       "4                      0           -769                2              2.0   \n",
       "...                  ...            ...              ...              ...   \n",
       "22732                  0          -2420                4              2.0   \n",
       "22733                  0          -1325               12              2.0   \n",
       "22734                  0          -1325               12              2.0   \n",
       "22735                  0           -655                1              2.0   \n",
       "22736                  1          -1193                3              1.0   \n",
       "\n",
       "       MONTHS_BALANCE  STATUS  \n",
       "0           -9.571429     0.0  \n",
       "1           -1.000000     0.0  \n",
       "2          -10.761905     0.0  \n",
       "3          -16.484848     0.0  \n",
       "4           -2.500000     0.0  \n",
       "...               ...     ...  \n",
       "22732       -2.000000     1.0  \n",
       "22733      -11.500000     1.0  \n",
       "22734      -16.000000     1.0  \n",
       "22735       -4.500000     1.0  \n",
       "22736       -6.500000     1.0  \n",
       "\n",
       "[22737 rows x 13 columns]"
      ]
     },
     "execution_count": 59,
     "metadata": {},
     "output_type": "execute_result"
    }
   ],
   "source": [
    "final_df = pd.merge(df_clean, label_grouped, left_on='ID', right_on='ID', how='inner').drop(\"ID\", axis =1)\n",
    "final_df"
   ]
  },
  {
   "cell_type": "markdown",
   "metadata": {
    "execution": {
     "iopub.execute_input": "2021-09-09T06:30:08.5802Z",
     "iopub.status.busy": "2021-09-09T06:30:08.579908Z",
     "iopub.status.idle": "2021-09-09T06:30:08.685185Z",
     "shell.execute_reply": "2021-09-09T06:30:08.684316Z",
     "shell.execute_reply.started": "2021-09-09T06:30:08.580168Z"
    }
   },
   "source": [
    "# Logistic Regression Model"
   ]
  },
  {
   "cell_type": "code",
   "execution_count": 31,
   "metadata": {
    "execution": {
     "iopub.execute_input": "2021-09-09T06:30:08.761142Z",
     "iopub.status.busy": "2021-09-09T06:30:08.760714Z",
     "iopub.status.idle": "2021-09-09T06:30:08.823809Z",
     "shell.execute_reply": "2021-09-09T06:30:08.822935Z",
     "shell.execute_reply.started": "2021-09-09T06:30:08.761105Z"
    }
   },
   "outputs": [],
   "source": [
    "X = final_df.drop([\"STATUS\"], axis = 1)\n",
    "y = final_df[\"STATUS\"]"
   ]
  },
  {
   "cell_type": "code",
   "execution_count": 32,
   "metadata": {
    "execution": {
     "iopub.execute_input": "2021-09-09T06:30:08.950206Z",
     "iopub.status.busy": "2021-09-09T06:30:08.94987Z",
     "iopub.status.idle": "2021-09-09T06:30:08.985217Z",
     "shell.execute_reply": "2021-09-09T06:30:08.98431Z",
     "shell.execute_reply.started": "2021-09-09T06:30:08.950172Z"
    }
   },
   "outputs": [
    {
     "data": {
      "text/plain": [
       "0.8654353562005277"
      ]
     },
     "execution_count": 32,
     "metadata": {},
     "output_type": "execute_result"
    }
   ],
   "source": [
    "from sklearn.model_selection import train_test_split, StratifiedKFold\n",
    "X_train, X_test, y_train, y_test = train_test_split(X, y, test_size=0.2)\n",
    "\n",
    "clf = LogisticRegression(random_state=0).fit(X_train, y_train)\n",
    "clf.score(X_test, y_test)"
   ]
  },
  {
   "cell_type": "code",
   "execution_count": 33,
   "metadata": {},
   "outputs": [
    {
     "data": {
      "text/plain": [
       "array([0.86587511, 0.8649956 , 0.86191733, 0.86455585, 0.8707124 ,\n",
       "       0.85971856, 0.86191733, 0.86185658, 0.85877695, 0.87109547])"
      ]
     },
     "execution_count": 33,
     "metadata": {},
     "output_type": "execute_result"
    }
   ],
   "source": [
    "kfold = model_selection.KFold(n_splits=10, random_state=42, shuffle=True)\n",
    "score = model_selection.cross_val_score(clf, X, y, cv=kfold)\n",
    "score"
   ]
  },
  {
   "cell_type": "code",
   "execution_count": 34,
   "metadata": {
    "execution": {
     "iopub.execute_input": "2021-09-09T06:30:09.16852Z",
     "iopub.status.busy": "2021-09-09T06:30:09.168154Z",
     "iopub.status.idle": "2021-09-09T06:30:09.27285Z",
     "shell.execute_reply": "2021-09-09T06:30:09.27185Z",
     "shell.execute_reply.started": "2021-09-09T06:30:09.168487Z"
    }
   },
   "outputs": [
    {
     "name": "stderr",
     "output_type": "stream",
     "text": [
      "/home/shkumar/.local/lib/python3.9/site-packages/sklearn/utils/deprecation.py:87: FutureWarning: Function plot_roc_curve is deprecated; Function `plot_roc_curve` is deprecated in 1.0 and will be removed in 1.2. Use one of the class methods: RocCurveDisplay.from_predictions or RocCurveDisplay.from_estimator.\n",
      "  warnings.warn(msg, category=FutureWarning)\n",
      "/home/shkumar/.local/lib/python3.9/site-packages/sklearn/utils/deprecation.py:87: FutureWarning: Function plot_roc_curve is deprecated; Function `plot_roc_curve` is deprecated in 1.0 and will be removed in 1.2. Use one of the class methods: RocCurveDisplay.from_predictions or RocCurveDisplay.from_estimator.\n",
      "  warnings.warn(msg, category=FutureWarning)\n"
     ]
    },
    {
     "data": {
      "image/png": "[encoded data removed]",
      "text/plain": [
       "<Figure size 432x288 with 1 Axes>"
      ]
     },
     "metadata": {
      "needs_background": "light"
     },
     "output_type": "display_data"
    },
    {
     "data": {
      "image/png": "[encoded data removed]",
      "text/plain": [
       "<Figure size 432x288 with 1 Axes>"
      ]
     },
     "metadata": {
      "needs_background": "light"
     },
     "output_type": "display_data"
    }
   ],
   "source": [
    "metrics.plot_roc_curve(clf, X_train, y_train, name=\"Training Logistic Regression\") \n",
    "metrics.plot_roc_curve(clf, X_test, y_test, name=\"Test Logistic Regression\") \n",
    "plt.show()"
   ]
  },
  {
   "cell_type": "code",
   "execution_count": 35,
   "metadata": {
    "execution": {
     "iopub.execute_input": "2021-09-09T06:30:09.365255Z",
     "iopub.status.busy": "2021-09-09T06:30:09.364848Z",
     "iopub.status.idle": "2021-09-09T06:30:09.36973Z",
     "shell.execute_reply": "2021-09-09T06:30:09.368345Z",
     "shell.execute_reply.started": "2021-09-09T06:30:09.365218Z"
    }
   },
   "outputs": [
    {
     "name": "stdout",
     "output_type": "stream",
     "text": [
      "StratifiedKFold(n_splits=2, random_state=None, shuffle=False)\n",
      "TRAIN: [11250 11251 11252 ... 22734 22735 22736] TEST: [    0     1     2 ... 12177 12178 12201]\n",
      "TRAIN: [    0     1     2 ... 12177 12178 12201] TEST: [11250 11251 11252 ... 22734 22735 22736]\n"
     ]
    }
   ],
   "source": [
    "\n",
    "skf = StratifiedKFold(n_splits=2)\n",
    "skf.get_n_splits(X.values, y)\n",
    "print(skf)  \n",
    "StratifiedKFold(n_splits=4, random_state=None, shuffle=False)\n",
    "for train_index, test_index in skf.split(X.values, y):\n",
    "    print(\"TRAIN:\", train_index, \"TEST:\", test_index)\n",
    "    X_train, X_test = X.values[train_index], X.values[test_index]\n",
    "    y_train, y_test = y[train_index], y[test_index]"
   ]
  },
  {
   "cell_type": "code",
   "execution_count": 36,
   "metadata": {
    "execution": {
     "iopub.execute_input": "2021-09-09T06:30:09.792326Z",
     "iopub.status.busy": "2021-09-09T06:30:09.791991Z",
     "iopub.status.idle": "2021-09-09T06:30:09.832168Z",
     "shell.execute_reply": "2021-09-09T06:30:09.831196Z",
     "shell.execute_reply.started": "2021-09-09T06:30:09.792293Z"
    }
   },
   "outputs": [
    {
     "data": {
      "text/plain": [
       "0.8641801548205489"
      ]
     },
     "execution_count": 36,
     "metadata": {},
     "output_type": "execute_result"
    }
   ],
   "source": [
    "clf = LogisticRegression(random_state=0).fit(X_train, y_train)\n",
    "clf.score(X_test, y_test)"
   ]
  },
  {
   "cell_type": "code",
   "execution_count": 37,
   "metadata": {
    "execution": {
     "iopub.execute_input": "2021-09-09T06:30:10.093571Z",
     "iopub.status.busy": "2021-09-09T06:30:10.093033Z",
     "iopub.status.idle": "2021-09-09T06:30:10.183115Z",
     "shell.execute_reply": "2021-09-09T06:30:10.182334Z",
     "shell.execute_reply.started": "2021-09-09T06:30:10.093531Z"
    }
   },
   "outputs": [
    {
     "name": "stderr",
     "output_type": "stream",
     "text": [
      "/home/shkumar/.local/lib/python3.9/site-packages/sklearn/utils/deprecation.py:87: FutureWarning: Function plot_roc_curve is deprecated; Function `plot_roc_curve` is deprecated in 1.0 and will be removed in 1.2. Use one of the class methods: RocCurveDisplay.from_predictions or RocCurveDisplay.from_estimator.\n",
      "  warnings.warn(msg, category=FutureWarning)\n",
      "/home/shkumar/.local/lib/python3.9/site-packages/sklearn/utils/deprecation.py:87: FutureWarning: Function plot_roc_curve is deprecated; Function `plot_roc_curve` is deprecated in 1.0 and will be removed in 1.2. Use one of the class methods: RocCurveDisplay.from_predictions or RocCurveDisplay.from_estimator.\n",
      "  warnings.warn(msg, category=FutureWarning)\n"
     ]
    },
    {
     "data": {
      "image/png": "[encoded data removed]",
      "text/plain": [
       "<Figure size 432x288 with 1 Axes>"
      ]
     },
     "metadata": {
      "needs_background": "light"
     },
     "output_type": "display_data"
    },
    {
     "data": {
      "image/png": "[encoded data removed]",
      "text/plain": [
       "<Figure size 432x288 with 1 Axes>"
      ]
     },
     "metadata": {
      "needs_background": "light"
     },
     "output_type": "display_data"
    }
   ],
   "source": [
    "metrics.plot_roc_curve(clf, X_train, y_train, name=\"Training Logistic Regression\") \n",
    "metrics.plot_roc_curve(clf, X_test, y_test, name=\"Test Logistic Regression\") \n",
    "plt.show()"
   ]
  },
  {
   "cell_type": "code",
   "execution_count": 38,
   "metadata": {
    "execution": {
     "iopub.execute_input": "2021-09-09T06:30:10.294192Z",
     "iopub.status.busy": "2021-09-09T06:30:10.293859Z",
     "iopub.status.idle": "2021-09-09T06:30:10.301841Z",
     "shell.execute_reply": "2021-09-09T06:30:10.300967Z",
     "shell.execute_reply.started": "2021-09-09T06:30:10.294162Z"
    }
   },
   "outputs": [
    {
     "data": {
      "text/plain": [
       "<sklearn.calibration.CalibrationDisplay at 0x7ff5394b3340>"
      ]
     },
     "execution_count": 38,
     "metadata": {},
     "output_type": "execute_result"
    },
    {
     "data": {
      "image/png": "[encoded data removed]",
      "text/plain": [
       "<Figure size 432x288 with 1 Axes>"
      ]
     },
     "metadata": {
      "needs_background": "light"
     },
     "output_type": "display_data"
    }
   ],
   "source": [
    "from sklearn.calibration import calibration_curve, CalibrationDisplay\n",
    "y_prob = clf.predict_proba(X_train)[:, 1]\n",
    "prob_true, prob_pred = calibration_curve(y_train, y_prob, n_bins=10)\n",
    "disp = CalibrationDisplay(prob_true, prob_pred, y_prob)\n",
    "disp.plot()"
   ]
  },
  {
   "cell_type": "code",
   "execution_count": null,
   "metadata": {
    "execution": {
     "iopub.execute_input": "2021-09-09T06:30:10.480065Z",
     "iopub.status.busy": "2021-09-09T06:30:10.479692Z",
     "iopub.status.idle": "2021-09-09T06:30:10.664811Z",
     "shell.execute_reply": "2021-09-09T06:30:10.663857Z",
     "shell.execute_reply.started": "2021-09-09T06:30:10.48003Z"
    }
   },
   "outputs": [],
   "source": []
  },
  {
   "cell_type": "code",
   "execution_count": null,
   "metadata": {
    "execution": {
     "iopub.execute_input": "2021-09-09T06:30:10.666199Z",
     "iopub.status.busy": "2021-09-09T06:30:10.665957Z",
     "iopub.status.idle": "2021-09-09T06:30:10.677011Z",
     "shell.execute_reply": "2021-09-09T06:30:10.676004Z",
     "shell.execute_reply.started": "2021-09-09T06:30:10.666174Z"
    }
   },
   "outputs": [],
   "source": []
  },
  {
   "cell_type": "code",
   "execution_count": null,
   "metadata": {
    "execution": {
     "iopub.execute_input": "2021-09-09T06:30:10.843318Z",
     "iopub.status.busy": "2021-09-09T06:30:10.842978Z",
     "iopub.status.idle": "2021-09-09T06:30:10.87242Z",
     "shell.execute_reply": "2021-09-09T06:30:10.871571Z",
     "shell.execute_reply.started": "2021-09-09T06:30:10.843287Z"
    }
   },
   "outputs": [],
   "source": []
  },
  {
   "cell_type": "code",
   "execution_count": null,
   "metadata": {
    "execution": {
     "iopub.execute_input": "2021-09-09T06:30:11.033371Z",
     "iopub.status.busy": "2021-09-09T06:30:11.033031Z",
     "iopub.status.idle": "2021-09-09T06:30:11.044498Z",
     "shell.execute_reply": "2021-09-09T06:30:11.043474Z",
     "shell.execute_reply.started": "2021-09-09T06:30:11.033331Z"
    }
   },
   "outputs": [],
   "source": []
  },
  {
   "cell_type": "code",
   "execution_count": null,
   "metadata": {
    "execution": {
     "iopub.execute_input": "2021-09-09T06:30:12.359885Z",
     "iopub.status.busy": "2021-09-09T06:30:12.359561Z",
     "iopub.status.idle": "2021-09-09T06:30:18.551048Z",
     "shell.execute_reply": "2021-09-09T06:30:18.550102Z",
     "shell.execute_reply.started": "2021-09-09T06:30:12.359855Z"
    }
   },
   "outputs": [],
   "source": []
  },
  {
   "cell_type": "code",
   "execution_count": null,
   "metadata": {
    "execution": {
     "iopub.execute_input": "2021-09-09T06:30:18.552571Z",
     "iopub.status.busy": "2021-09-09T06:30:18.552307Z",
     "iopub.status.idle": "2021-09-09T06:30:19.160426Z",
     "shell.execute_reply": "2021-09-09T06:30:19.15953Z",
     "shell.execute_reply.started": "2021-09-09T06:30:18.552545Z"
    }
   },
   "outputs": [],
   "source": []
  },
  {
   "cell_type": "code",
   "execution_count": null,
   "metadata": {
    "execution": {
     "iopub.execute_input": "2021-09-09T06:30:19.162653Z",
     "iopub.status.busy": "2021-09-09T06:30:19.162381Z",
     "iopub.status.idle": "2021-09-09T06:30:39.124168Z",
     "shell.execute_reply": "2021-09-09T06:30:39.123076Z",
     "shell.execute_reply.started": "2021-09-09T06:30:19.162625Z"
    }
   },
   "outputs": [],
   "source": []
  },
  {
   "cell_type": "code",
   "execution_count": null,
   "metadata": {
    "execution": {
     "iopub.execute_input": "2021-09-09T06:30:39.126035Z",
     "iopub.status.busy": "2021-09-09T06:30:39.125722Z",
     "iopub.status.idle": "2021-09-09T06:30:39.165726Z",
     "shell.execute_reply": "2021-09-09T06:30:39.163815Z",
     "shell.execute_reply.started": "2021-09-09T06:30:39.125999Z"
    }
   },
   "outputs": [],
   "source": []
  },
  {
   "cell_type": "code",
   "execution_count": null,
   "metadata": {
    "execution": {
     "iopub.execute_input": "2021-09-09T06:30:39.167737Z",
     "iopub.status.busy": "2021-09-09T06:30:39.167403Z",
     "iopub.status.idle": "2021-09-09T06:30:39.173727Z",
     "shell.execute_reply": "2021-09-09T06:30:39.172792Z",
     "shell.execute_reply.started": "2021-09-09T06:30:39.167706Z"
    }
   },
   "outputs": [],
   "source": []
  },
  {
   "cell_type": "code",
   "execution_count": null,
   "metadata": {
    "execution": {
     "iopub.execute_input": "2021-09-09T06:30:39.175355Z",
     "iopub.status.busy": "2021-09-09T06:30:39.174996Z",
     "iopub.status.idle": "2021-09-09T06:30:39.188821Z",
     "shell.execute_reply": "2021-09-09T06:30:39.187698Z",
     "shell.execute_reply.started": "2021-09-09T06:30:39.175311Z"
    }
   },
   "outputs": [],
   "source": []
  },
  {
   "cell_type": "code",
   "execution_count": null,
   "metadata": {
    "execution": {
     "iopub.execute_input": "2021-09-09T06:30:39.190726Z",
     "iopub.status.busy": "2021-09-09T06:30:39.190212Z",
     "iopub.status.idle": "2021-09-09T06:30:39.253347Z",
     "shell.execute_reply": "2021-09-09T06:30:39.252618Z",
     "shell.execute_reply.started": "2021-09-09T06:30:39.190686Z"
    }
   },
   "outputs": [],
   "source": []
  },
  {
   "cell_type": "code",
   "execution_count": null,
   "metadata": {
    "execution": {
     "iopub.execute_input": "2021-09-09T06:30:39.256471Z",
     "iopub.status.busy": "2021-09-09T06:30:39.256039Z",
     "iopub.status.idle": "2021-09-09T06:30:39.322258Z",
     "shell.execute_reply": "2021-09-09T06:30:39.321304Z",
     "shell.execute_reply.started": "2021-09-09T06:30:39.256439Z"
    }
   },
   "outputs": [],
   "source": []
  },
  {
   "cell_type": "code",
   "execution_count": null,
   "metadata": {
    "execution": {
     "iopub.execute_input": "2021-09-09T06:30:39.323949Z",
     "iopub.status.busy": "2021-09-09T06:30:39.323702Z",
     "iopub.status.idle": "2021-09-09T06:30:39.33441Z",
     "shell.execute_reply": "2021-09-09T06:30:39.333351Z",
     "shell.execute_reply.started": "2021-09-09T06:30:39.323923Z"
    }
   },
   "outputs": [],
   "source": []
  },
  {
   "cell_type": "code",
   "execution_count": null,
   "metadata": {
    "execution": {
     "iopub.execute_input": "2021-09-09T06:30:39.336518Z",
     "iopub.status.busy": "2021-09-09T06:30:39.336074Z",
     "iopub.status.idle": "2021-09-09T06:30:40.447851Z",
     "shell.execute_reply": "2021-09-09T06:30:40.447153Z",
     "shell.execute_reply.started": "2021-09-09T06:30:39.336468Z"
    }
   },
   "outputs": [],
   "source": []
  },
  {
   "cell_type": "code",
   "execution_count": null,
   "metadata": {
    "execution": {
     "iopub.execute_input": "2021-09-09T06:30:40.449105Z",
     "iopub.status.busy": "2021-09-09T06:30:40.448759Z",
     "iopub.status.idle": "2021-09-09T06:30:40.454115Z",
     "shell.execute_reply": "2021-09-09T06:30:40.453429Z",
     "shell.execute_reply.started": "2021-09-09T06:30:40.449078Z"
    }
   },
   "outputs": [],
   "source": []
  },
  {
   "cell_type": "code",
   "execution_count": null,
   "metadata": {
    "execution": {
     "iopub.execute_input": "2021-09-09T06:30:40.455577Z",
     "iopub.status.busy": "2021-09-09T06:30:40.455071Z",
     "iopub.status.idle": "2021-09-09T06:30:40.465237Z",
     "shell.execute_reply": "2021-09-09T06:30:40.464468Z",
     "shell.execute_reply.started": "2021-09-09T06:30:40.455549Z"
    }
   },
   "outputs": [],
   "source": []
  },
  {
   "cell_type": "code",
   "execution_count": null,
   "metadata": {
    "execution": {
     "iopub.execute_input": "2021-09-09T06:30:40.466897Z",
     "iopub.status.busy": "2021-09-09T06:30:40.466377Z",
     "iopub.status.idle": "2021-09-09T06:30:40.474697Z",
     "shell.execute_reply": "2021-09-09T06:30:40.474001Z",
     "shell.execute_reply.started": "2021-09-09T06:30:40.466868Z"
    }
   },
   "outputs": [],
   "source": []
  },
  {
   "cell_type": "code",
   "execution_count": null,
   "metadata": {
    "execution": {
     "iopub.execute_input": "2021-09-09T06:30:40.476259Z",
     "iopub.status.busy": "2021-09-09T06:30:40.475818Z",
     "iopub.status.idle": "2021-09-09T06:30:41.148564Z",
     "shell.execute_reply": "2021-09-09T06:30:41.147674Z",
     "shell.execute_reply.started": "2021-09-09T06:30:40.476228Z"
    }
   },
   "outputs": [],
   "source": []
  },
  {
   "cell_type": "code",
   "execution_count": null,
   "metadata": {
    "execution": {
     "iopub.execute_input": "2021-09-09T06:30:41.149933Z",
     "iopub.status.busy": "2021-09-09T06:30:41.14966Z",
     "iopub.status.idle": "2021-09-09T06:30:41.166524Z",
     "shell.execute_reply": "2021-09-09T06:30:41.165431Z",
     "shell.execute_reply.started": "2021-09-09T06:30:41.149904Z"
    }
   },
   "outputs": [],
   "source": []
  },
  {
   "cell_type": "code",
   "execution_count": null,
   "metadata": {
    "execution": {
     "iopub.execute_input": "2021-09-09T06:30:41.16864Z",
     "iopub.status.busy": "2021-09-09T06:30:41.16801Z",
     "iopub.status.idle": "2021-09-09T06:30:46.572247Z",
     "shell.execute_reply": "2021-09-09T06:30:46.571306Z",
     "shell.execute_reply.started": "2021-09-09T06:30:41.168594Z"
    }
   },
   "outputs": [],
   "source": []
  },
  {
   "cell_type": "code",
   "execution_count": null,
   "metadata": {
    "execution": {
     "iopub.execute_input": "2021-09-09T06:37:42.010789Z",
     "iopub.status.busy": "2021-09-09T06:37:42.010257Z",
     "iopub.status.idle": "2021-09-09T06:37:42.016092Z",
     "shell.execute_reply": "2021-09-09T06:37:42.015422Z",
     "shell.execute_reply.started": "2021-09-09T06:37:42.010756Z"
    }
   },
   "outputs": [],
   "source": []
  },
  {
   "cell_type": "code",
   "execution_count": null,
   "metadata": {
    "execution": {
     "iopub.execute_input": "2021-09-09T06:38:23.992424Z",
     "iopub.status.busy": "2021-09-09T06:38:23.992043Z",
     "iopub.status.idle": "2021-09-09T06:38:24.057595Z",
     "shell.execute_reply": "2021-09-09T06:38:24.056585Z",
     "shell.execute_reply.started": "2021-09-09T06:38:23.992388Z"
    }
   },
   "outputs": [],
   "source": []
  },
  {
   "cell_type": "code",
   "execution_count": null,
   "metadata": {
    "execution": {
     "iopub.execute_input": "2021-09-09T06:38:25.864329Z",
     "iopub.status.busy": "2021-09-09T06:38:25.863965Z",
     "iopub.status.idle": "2021-09-09T06:39:03.917126Z",
     "shell.execute_reply": "2021-09-09T06:39:03.916205Z",
     "shell.execute_reply.started": "2021-09-09T06:38:25.864288Z"
    }
   },
   "outputs": [],
   "source": []
  },
  {
   "cell_type": "code",
   "execution_count": null,
   "metadata": {
    "execution": {
     "iopub.execute_input": "2021-09-09T06:39:03.919087Z",
     "iopub.status.busy": "2021-09-09T06:39:03.91882Z",
     "iopub.status.idle": "2021-09-09T06:39:04.335909Z",
     "shell.execute_reply": "2021-09-09T06:39:04.334902Z",
     "shell.execute_reply.started": "2021-09-09T06:39:03.919059Z"
    }
   },
   "outputs": [],
   "source": []
  },
  {
   "cell_type": "code",
   "execution_count": null,
   "metadata": {
    "execution": {
     "iopub.execute_input": "2021-09-09T06:39:04.338224Z",
     "iopub.status.busy": "2021-09-09T06:39:04.337699Z",
     "iopub.status.idle": "2021-09-09T06:39:04.398609Z",
     "shell.execute_reply": "2021-09-09T06:39:04.397919Z",
     "shell.execute_reply.started": "2021-09-09T06:39:04.338182Z"
    }
   },
   "outputs": [],
   "source": []
  },
  {
   "cell_type": "code",
   "execution_count": null,
   "metadata": {
    "execution": {
     "iopub.execute_input": "2021-09-09T06:39:04.400334Z",
     "iopub.status.busy": "2021-09-09T06:39:04.399796Z",
     "iopub.status.idle": "2021-09-09T06:39:23.954926Z",
     "shell.execute_reply": "2021-09-09T06:39:23.954181Z",
     "shell.execute_reply.started": "2021-09-09T06:39:04.400292Z"
    }
   },
   "outputs": [],
   "source": []
  },
  {
   "cell_type": "code",
   "execution_count": null,
   "metadata": {
    "execution": {
     "iopub.execute_input": "2021-09-07T09:29:40.03396Z",
     "iopub.status.busy": "2021-09-07T09:29:40.033521Z",
     "iopub.status.idle": "2021-09-07T09:29:40.115516Z",
     "shell.execute_reply": "2021-09-07T09:29:40.11442Z",
     "shell.execute_reply.started": "2021-09-07T09:29:40.033921Z"
    }
   },
   "outputs": [],
   "source": [
    "\n"
   ]
  },
  {
   "cell_type": "code",
   "execution_count": null,
   "metadata": {},
   "outputs": [],
   "source": []
  }
 ],
 "metadata": {
  "kernelspec": {
   "display_name": "Python 3 (ipykernel)",
   "language": "python",
   "name": "python3"
  },
  "language_info": {
   "codemirror_mode": {
    "name": "ipython",
    "version": 3
   },
   "file_extension": ".py",
   "mimetype": "text/x-python",
   "name": "python",
   "nbconvert_exporter": "python",
   "pygments_lexer": "ipython3",
   "version": "3.9.5"
  }
 },
 "nbformat": 4,
 "nbformat_minor": 4
}
