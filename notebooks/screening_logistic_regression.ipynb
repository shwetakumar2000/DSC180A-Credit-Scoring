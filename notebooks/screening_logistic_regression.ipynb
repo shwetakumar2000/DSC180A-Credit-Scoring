{
 "cells": [
  {
   "cell_type": "code",
   "execution_count": 61,
   "metadata": {},
   "outputs": [],
   "source": [
    "import numpy as np\n",
    "import pandas as pd \n",
    "import os.path\n",
    "import seaborn as sns\n",
    "from sklearn.linear_model import LogisticRegression\n",
    "from sklearn import model_selection, svm, metrics\n",
    "from sklearn.calibration import calibration_curve, CalibrationDisplay\n",
    "# from sklearn.calibration import calibration_curve\n",
    "import  sklearn.calibration\n",
    "\n",
    "import matplotlib.pyplot as plt\n",
    "import tensorflow_probability as tfp\n",
    "\n",
    "from sklearn.model_selection import StratifiedKFold\n",
    "import scipy.stats as stats\n",
    "from scipy.stats import chi2_contingency\n",
    "from sklearn.preprocessing import LabelEncoder\n",
    "from sklearn.model_selection import GridSearchCV, cross_val_score, StratifiedKFold, learning_curve ,KFold"
   ]
  },
  {
   "cell_type": "code",
   "execution_count": 36,
   "metadata": {},
   "outputs": [],
   "source": [
    "# import sklearn\n",
    "# sklearn.__version__\n",
    "# sklearn.show_versions()"
   ]
  },
  {
   "cell_type": "code",
   "execution_count": 62,
   "metadata": {},
   "outputs": [],
   "source": [
    "import recourse as rs\n",
    "import shap\n",
    "import lime"
   ]
  },
  {
   "cell_type": "code",
   "execution_count": 38,
   "metadata": {},
   "outputs": [],
   "source": [
    "# import tensorflow as tf\n",
    "# tensorflow.__version__"
   ]
  },
  {
   "cell_type": "markdown",
   "metadata": {},
   "source": [
    "# Screening Dataset Logistic Regression"
   ]
  },
  {
   "cell_type": "code",
   "execution_count": 39,
   "metadata": {},
   "outputs": [],
   "source": [
    "data_path = os.path.join(\"..\",\"src\",\"data\", \"screening\", \"screening_data.csv\")\n",
    "data = pd.read_csv(data_path)\n",
    "training_variables = ['satisfactoryCreditHistory',\n",
    "       'applicantIncomeLog', 'coapplicantIncomeLog', 'loanAmountLog',\n",
    "       'loanAmountTermLog', 'totalIncomeLog', 'isMarried',\n",
    "       'has1Dependent', 'has2Dependents', 'has3+Dependents', 'hasNotGraduated',\n",
    "       'isSelfEmployed', 'livesSemiurbal', 'livesUrban']\n"
   ]
  },
  {
   "cell_type": "code",
   "execution_count": 40,
   "metadata": {},
   "outputs": [],
   "source": [
    "X = data[training_variables]\n",
    "y = data[\"outcome\"]"
   ]
  },
  {
   "cell_type": "code",
   "execution_count": 41,
   "metadata": {},
   "outputs": [],
   "source": [
    "def classify(model,x,y):\n",
    "    X_train, X_test, y_train, y_test = model_selection.train_test_split(x,y, test_size=0.25, random_state=47)\n",
    "    model.fit(X_train, y_train)\n",
    "    print('Model',model)\n",
    "    print(\"Accuracy is\", model.score(X_test, y_test)* 100)\n",
    "    # cross  validation for better validation\n",
    "    kfold = model_selection.KFold(n_splits=10,random_state=42, shuffle=True)\n",
    "    score = model_selection.cross_val_score(model, x, y, cv=kfold)\n",
    "    print(\"Cross Val\", np.mean(score)*100)\n",
    "#     ROC curve + AUC\n",
    "    train_roc = metrics.plot_roc_curve(model, X_train, y_train)\n",
    "    test_roc = metrics.plot_roc_curve(model, X_test, y_test) \n",
    "    plt.show()\n",
    "# Reliability diagram train\n",
    "    y_prob = model.predict_proba(X_train)[:, 1]\n",
    "#     tf.convert_to_tensor(y_pred, dtype = tf.int64)\n",
    "    prob_true, prob_pred = calibration_curve(y_train, y_prob, n_bins=10)\n",
    "    disp = sklearn.calibration.CalibrationDisplay(prob_true, prob_pred, y_prob)\n",
    "    disp = sklearn.calibration.CalibrationDisplay(prob_true, prob_pred, y_prob)\n",
    "    disp.plot()\n",
    "    \n",
    "#     y_train_tensor = tf.convert_to_ten\n",
    "#     y_train_tensor = tf.convert_to_tensor(y_train, dtype=tf.float32)\n",
    "#     y_prob_tensor = tf.convert_to_tensor(y_prob, dtype=tf.float32)\n",
    "#     y_pred_proba = clf.predict_proba(X_train)\n",
    "#     logit_tensor = tf.convert_to_tensor(y_pred_proba, dtype = tf.float32, name = 'logits')\n",
    "#     print(tfp.expected_calibration_error(num_bins=15, logits = logit_tensor, labels_true=y_train_tensor, labels_predicted=y_prob_tensor))\n",
    "    \n",
    "# reliability diagram Test\n",
    "    y_prob = model.predict_proba(X_test)[:, 1]\n",
    "    prob_true, prob_pred = calibration_curve(y_test, y_prob, n_bins=10)\n",
    "    disp = CalibrationDisplay(prob_true, prob_pred, y_prob)\n",
    "    disp = CalibrationDisplay(prob_true, prob_pred, y_prob)\n",
    "    disp.plot()\n",
    "#     print(tfp.python.stats.expected_calibration_error(num_bins=15, labels_true=y_test, labels_predicted=y_prob))\n"
   ]
  },
  {
   "cell_type": "code",
   "execution_count": 42,
   "metadata": {},
   "outputs": [
    {
     "name": "stderr",
     "output_type": "stream",
     "text": [
      "lbfgs failed to converge (status=1):\n",
      "STOP: TOTAL NO. of ITERATIONS REACHED LIMIT.\n",
      "\n",
      "Increase the number of iterations (max_iter) or scale the data as shown in:\n",
      "    https://scikit-learn.org/stable/modules/preprocessing.html\n",
      "Please also refer to the documentation for alternative solver options:\n",
      "    https://scikit-learn.org/stable/modules/linear_model.html#logistic-regression\n",
      "lbfgs failed to converge (status=1):\n",
      "STOP: TOTAL NO. of ITERATIONS REACHED LIMIT.\n",
      "\n",
      "Increase the number of iterations (max_iter) or scale the data as shown in:\n",
      "    https://scikit-learn.org/stable/modules/preprocessing.html\n",
      "Please also refer to the documentation for alternative solver options:\n",
      "    https://scikit-learn.org/stable/modules/linear_model.html#logistic-regression\n",
      "lbfgs failed to converge (status=1):\n",
      "STOP: TOTAL NO. of ITERATIONS REACHED LIMIT.\n",
      "\n",
      "Increase the number of iterations (max_iter) or scale the data as shown in:\n",
      "    https://scikit-learn.org/stable/modules/preprocessing.html\n",
      "Please also refer to the documentation for alternative solver options:\n",
      "    https://scikit-learn.org/stable/modules/linear_model.html#logistic-regression\n",
      "lbfgs failed to converge (status=1):\n",
      "STOP: TOTAL NO. of ITERATIONS REACHED LIMIT.\n",
      "\n",
      "Increase the number of iterations (max_iter) or scale the data as shown in:\n",
      "    https://scikit-learn.org/stable/modules/preprocessing.html\n",
      "Please also refer to the documentation for alternative solver options:\n",
      "    https://scikit-learn.org/stable/modules/linear_model.html#logistic-regression\n",
      "lbfgs failed to converge (status=1):\n",
      "STOP: TOTAL NO. of ITERATIONS REACHED LIMIT.\n",
      "\n",
      "Increase the number of iterations (max_iter) or scale the data as shown in:\n",
      "    https://scikit-learn.org/stable/modules/preprocessing.html\n",
      "Please also refer to the documentation for alternative solver options:\n",
      "    https://scikit-learn.org/stable/modules/linear_model.html#logistic-regression\n",
      "lbfgs failed to converge (status=1):\n",
      "STOP: TOTAL NO. of ITERATIONS REACHED LIMIT.\n",
      "\n",
      "Increase the number of iterations (max_iter) or scale the data as shown in:\n",
      "    https://scikit-learn.org/stable/modules/preprocessing.html\n",
      "Please also refer to the documentation for alternative solver options:\n",
      "    https://scikit-learn.org/stable/modules/linear_model.html#logistic-regression\n",
      "lbfgs failed to converge (status=1):\n",
      "STOP: TOTAL NO. of ITERATIONS REACHED LIMIT.\n",
      "\n",
      "Increase the number of iterations (max_iter) or scale the data as shown in:\n",
      "    https://scikit-learn.org/stable/modules/preprocessing.html\n",
      "Please also refer to the documentation for alternative solver options:\n",
      "    https://scikit-learn.org/stable/modules/linear_model.html#logistic-regression\n",
      "Function plot_roc_curve is deprecated; Function `plot_roc_curve` is deprecated in 1.0 and will be removed in 1.2. Use one of the class methods: RocCurveDisplay.from_predictions or RocCurveDisplay.from_estimator.\n"
     ]
    },
    {
     "name": "stdout",
     "output_type": "stream",
     "text": [
      "Model LogisticRegression()\n",
      "Accuracy is 56.09756097560976\n",
      "Cross Val 60.851370851370845\n"
     ]
    },
    {
     "name": "stderr",
     "output_type": "stream",
     "text": [
      "Function plot_roc_curve is deprecated; Function `plot_roc_curve` is deprecated in 1.0 and will be removed in 1.2. Use one of the class methods: RocCurveDisplay.from_predictions or RocCurveDisplay.from_estimator.\n"
     ]
    },
    {
     "data": {
      "text/plain": [
       "<Figure size 640x480 with 1 Axes>"
      ]
     },
     "metadata": {},
     "output_type": "display_data"
    },
    {
     "data": {
      "text/plain": [
       "<Figure size 640x480 with 1 Axes>"
      ]
     },
     "metadata": {},
     "output_type": "display_data"
    },
    {
     "data": {
      "text/plain": [
       "<Figure size 640x480 with 1 Axes>"
      ]
     },
     "metadata": {},
     "output_type": "display_data"
    },
    {
     "data": {
      "text/plain": [
       "<Figure size 640x480 with 1 Axes>"
      ]
     },
     "metadata": {},
     "output_type": "display_data"
    }
   ],
   "source": [
    "classify(LogisticRegression(), X, y)"
   ]
  },
  {
   "cell_type": "code",
   "execution_count": null,
   "metadata": {},
   "outputs": [],
   "source": []
  },
  {
   "cell_type": "markdown",
   "metadata": {},
   "source": [
    "# Logistic Regression - Different Approach"
   ]
  },
  {
   "cell_type": "code",
   "execution_count": 43,
   "metadata": {},
   "outputs": [],
   "source": [
    "# training\n",
    "data_path = os.path.join(\"..\", \"src\", \"data\", \"screening\", \"raw\", \"Train Dataset.csv\")\n",
    "df1 = pd.read_csv(data_path)\n",
    "# missing values\n",
    "df1['Credit_History']=df1['Credit_History'].fillna(df1['Credit_History'].mean())\n",
    "df1['Loan_Amount_Term']=df1['Loan_Amount_Term'].fillna(df1['Loan_Amount_Term'].mean())\n",
    "df1['LoanAmount']=df1['LoanAmount'].fillna(df1['LoanAmount'].mean())\n",
    "df1['Dependents']=df1['Dependents'].fillna(df1['Dependents'].mode()[0])\n",
    "df1['Gender']=df1['Gender'].fillna(df1['Gender'].mode()[0])\n",
    "df1['Married']=df1['Married'].fillna(df1['Married'].mode()[0])\n",
    "df1['Self_Employed']=df1['Self_Employed'].fillna(df1['Self_Employed'].mode()[0])\n",
    "# drop loan ID\n",
    "df1 = df1.drop(columns=['Loan_ID'])"
   ]
  },
  {
   "cell_type": "code",
   "execution_count": 44,
   "metadata": {},
   "outputs": [],
   "source": [
    "# testing\n",
    "data_path = os.path.join(\"..\", \"src\", \"data\", \"screening\", \"raw\", \"Test Dataset.csv\")\n",
    "data_samp = os.path.join(\"..\", \"src\", \"data\", \"screening\", \"raw\", \"Sample_Submission.csv\")\n",
    "df2 = pd.read_csv(data_path)\n",
    "df3 = pd.read_csv(data_samp)\n",
    "\n",
    "df2 = pd.DataFrame.merge(df2, df3, on = \"Loan_ID\")\n",
    "\n",
    "# missing values\n",
    "df2['Gender']=df2['Gender'].fillna(df2['Gender'].mode()[0])\n",
    "df2['Dependents']=df2['Dependents'].fillna(df2['Dependents'].mode()[0])\n",
    "df2['Self_Employed']=df2['Self_Employed'].fillna(df2['Self_Employed'].mode()[0])\n",
    "df2['LoanAmount']=df2['LoanAmount'].fillna(df2['LoanAmount'].mean())\n",
    "df2['Loan_Amount_Term']=df2['Loan_Amount_Term'].fillna(df2['Loan_Amount_Term'].mean())\n",
    "df2['Credit_History']=df2['Credit_History'].fillna(df2['Credit_History'].mean())\n",
    "# drop loan ID\n",
    "df2=df2.drop(columns=['Loan_ID']) "
   ]
  },
  {
   "cell_type": "code",
   "execution_count": 45,
   "metadata": {},
   "outputs": [],
   "source": [
    "data=pd.concat([df1,df2],axis=0) "
   ]
  },
  {
   "cell_type": "code",
   "execution_count": 46,
   "metadata": {},
   "outputs": [
    {
     "data": {
      "text/html": [
       "<div>\n",
       "<style scoped>\n",
       "    .dataframe tbody tr th:only-of-type {\n",
       "        vertical-align: middle;\n",
       "    }\n",
       "\n",
       "    .dataframe tbody tr th {\n",
       "        vertical-align: top;\n",
       "    }\n",
       "\n",
       "    .dataframe thead th {\n",
       "        text-align: right;\n",
       "    }\n",
       "</style>\n",
       "<table border=\"1\" class=\"dataframe\">\n",
       "  <thead>\n",
       "    <tr style=\"text-align: right;\">\n",
       "      <th></th>\n",
       "      <th>loanID</th>\n",
       "      <th>applicantIncome</th>\n",
       "      <th>coapplicantIncome</th>\n",
       "      <th>loanAmount</th>\n",
       "      <th>loanAmountTerm</th>\n",
       "      <th>...</th>\n",
       "      <th>hasNotGraduated</th>\n",
       "      <th>isSelfEmployed</th>\n",
       "      <th>livesSemiurbal</th>\n",
       "      <th>livesUrban</th>\n",
       "      <th>outcome</th>\n",
       "    </tr>\n",
       "  </thead>\n",
       "  <tbody>\n",
       "    <tr>\n",
       "      <th>0</th>\n",
       "      <td>LP001002</td>\n",
       "      <td>5849</td>\n",
       "      <td>0.0</td>\n",
       "      <td>142.51153</td>\n",
       "      <td>360.0</td>\n",
       "      <td>...</td>\n",
       "      <td>0</td>\n",
       "      <td>0</td>\n",
       "      <td>0</td>\n",
       "      <td>1</td>\n",
       "      <td>1</td>\n",
       "    </tr>\n",
       "    <tr>\n",
       "      <th>1</th>\n",
       "      <td>LP001003</td>\n",
       "      <td>4583</td>\n",
       "      <td>1508.0</td>\n",
       "      <td>128.00000</td>\n",
       "      <td>360.0</td>\n",
       "      <td>...</td>\n",
       "      <td>0</td>\n",
       "      <td>0</td>\n",
       "      <td>0</td>\n",
       "      <td>0</td>\n",
       "      <td>0</td>\n",
       "    </tr>\n",
       "    <tr>\n",
       "      <th>2</th>\n",
       "      <td>LP001005</td>\n",
       "      <td>3000</td>\n",
       "      <td>0.0</td>\n",
       "      <td>66.00000</td>\n",
       "      <td>360.0</td>\n",
       "      <td>...</td>\n",
       "      <td>0</td>\n",
       "      <td>1</td>\n",
       "      <td>0</td>\n",
       "      <td>1</td>\n",
       "      <td>1</td>\n",
       "    </tr>\n",
       "    <tr>\n",
       "      <th>3</th>\n",
       "      <td>LP001006</td>\n",
       "      <td>2583</td>\n",
       "      <td>2358.0</td>\n",
       "      <td>120.00000</td>\n",
       "      <td>360.0</td>\n",
       "      <td>...</td>\n",
       "      <td>1</td>\n",
       "      <td>0</td>\n",
       "      <td>0</td>\n",
       "      <td>1</td>\n",
       "      <td>1</td>\n",
       "    </tr>\n",
       "    <tr>\n",
       "      <th>4</th>\n",
       "      <td>LP001008</td>\n",
       "      <td>6000</td>\n",
       "      <td>0.0</td>\n",
       "      <td>141.00000</td>\n",
       "      <td>360.0</td>\n",
       "      <td>...</td>\n",
       "      <td>0</td>\n",
       "      <td>0</td>\n",
       "      <td>0</td>\n",
       "      <td>1</td>\n",
       "      <td>1</td>\n",
       "    </tr>\n",
       "  </tbody>\n",
       "</table>\n",
       "<p>5 rows × 22 columns</p>\n",
       "</div>"
      ],
      "text/plain": [
       "     loanID  applicantIncome  coapplicantIncome  loanAmount  loanAmountTerm  \\\n",
       "0  LP001002             5849                0.0   142.51153           360.0   \n",
       "1  LP001003             4583             1508.0   128.00000           360.0   \n",
       "2  LP001005             3000                0.0    66.00000           360.0   \n",
       "3  LP001006             2583             2358.0   120.00000           360.0   \n",
       "4  LP001008             6000                0.0   141.00000           360.0   \n",
       "\n",
       "   ...  hasNotGraduated  isSelfEmployed  livesSemiurbal  livesUrban  outcome  \n",
       "0  ...                0               0               0           1        1  \n",
       "1  ...                0               0               0           0        0  \n",
       "2  ...                0               1               0           1        1  \n",
       "3  ...                1               0               0           1        1  \n",
       "4  ...                0               0               0           1        1  \n",
       "\n",
       "[5 rows x 22 columns]"
      ]
     },
     "execution_count": 46,
     "metadata": {},
     "output_type": "execute_result"
    }
   ],
   "source": [
    "data_path = os.path.join(\"..\", \"src\", \"data\", \"screening\", \"screening_data.csv\")\n",
    "data = pd.read_csv(data_path)\n",
    "data.head()"
   ]
  },
  {
   "cell_type": "code",
   "execution_count": 47,
   "metadata": {},
   "outputs": [],
   "source": [
    "class ChiSquare:\n",
    "    def __init__(self, dataframe):\n",
    "        self.data = dataframe\n",
    "        self.p = None #P-Value\n",
    "        self.chi2 = None #Chi Test Statistic\n",
    "        self.dof = None\n",
    "        \n",
    "        self.dfObserved = None\n",
    "        self.dfExpected = None\n",
    "        \n",
    "    def _print_chisquare_result(self, colX, alpha):\n",
    "        result = \"\"\n",
    "        if self.p<alpha:\n",
    "            result=\"{0} is IMPORTANT for Prediction\".format(colX)\n",
    "        else:\n",
    "            result=\"{0} is NOT an important predictor. (Discard {0} from model)\".format(colX)\n",
    "\n",
    "        print(result)\n",
    "        \n",
    "    def TestIndependence(self,colX,colY, alpha=0.05):\n",
    "        X = self.data[colX].astype(str)\n",
    "        Y = self.data[colY].astype(str)\n",
    "        \n",
    "        self.dfObserved = pd.crosstab(Y,X) \n",
    "        chi2, p, dof, expected = stats.chi2_contingency(self.dfObserved.values)\n",
    "        self.p = p\n",
    "        self.chi2 = chi2\n",
    "        self.dof = dof \n",
    "        \n",
    "        self.dfExpected = pd.DataFrame(expected, columns=self.dfObserved.columns, index = self.dfObserved.index)\n",
    "        \n",
    "        self._print_chisquare_result(colX,alpha)"
   ]
  },
  {
   "cell_type": "code",
   "execution_count": 48,
   "metadata": {},
   "outputs": [
    {
     "name": "stdout",
     "output_type": "stream",
     "text": [
      "loanID is NOT an important predictor. (Discard loanID from model)\n",
      "applicantIncome is NOT an important predictor. (Discard applicantIncome from model)\n",
      "coapplicantIncome is NOT an important predictor. (Discard coapplicantIncome from model)\n",
      "loanAmount is NOT an important predictor. (Discard loanAmount from model)\n",
      "loanAmountTerm is NOT an important predictor. (Discard loanAmountTerm from model)\n",
      "satisfactoryCreditHistory is IMPORTANT for Prediction\n",
      "totalIncome is NOT an important predictor. (Discard totalIncome from model)\n",
      "applicantIncomeLog is NOT an important predictor. (Discard applicantIncomeLog from model)\n",
      "coapplicantIncomeLog is NOT an important predictor. (Discard coapplicantIncomeLog from model)\n",
      "loanAmountLog is NOT an important predictor. (Discard loanAmountLog from model)\n",
      "loanAmountTermLog is NOT an important predictor. (Discard loanAmountTermLog from model)\n",
      "totalIncomeLog is NOT an important predictor. (Discard totalIncomeLog from model)\n",
      "isMale is NOT an important predictor. (Discard isMale from model)\n",
      "isMarried is IMPORTANT for Prediction\n",
      "has1Dependent is NOT an important predictor. (Discard has1Dependent from model)\n",
      "has2Dependents is NOT an important predictor. (Discard has2Dependents from model)\n",
      "has3+Dependents is NOT an important predictor. (Discard has3+Dependents from model)\n",
      "hasNotGraduated is NOT an important predictor. (Discard hasNotGraduated from model)\n",
      "isSelfEmployed is NOT an important predictor. (Discard isSelfEmployed from model)\n",
      "livesSemiurbal is IMPORTANT for Prediction\n",
      "livesUrban is NOT an important predictor. (Discard livesUrban from model)\n"
     ]
    }
   ],
   "source": [
    "#Initialize ChiSquare Class\n",
    "cT = ChiSquare(data)\n",
    "\n",
    "#Feature Selection\n",
    "testColumns = ['Gender', 'Married', 'Dependents', 'Education', 'Self_Employed',\n",
    "       'ApplicantIncome', 'CoapplicantIncome', 'LoanAmount',\n",
    "       'Loan_Amount_Term', 'Credit_History', 'Property_Area', 'Loan_Status']\n",
    "data_cols = ['loanID', 'applicantIncome', 'coapplicantIncome', 'loanAmount',\n",
    "       'loanAmountTerm', 'satisfactoryCreditHistory', 'totalIncome',\n",
    "       'applicantIncomeLog', 'coapplicantIncomeLog', 'loanAmountLog',\n",
    "       'loanAmountTermLog', 'totalIncomeLog', 'isMale', 'isMarried',\n",
    "       'has1Dependent', 'has2Dependents', 'has3+Dependents', 'hasNotGraduated',\n",
    "       'isSelfEmployed', 'livesSemiurbal', 'livesUrban']\n",
    "      \n",
    "       \n",
    "for var in data_cols:\n",
    "    cT.TestIndependence(colX=var,colY=\"outcome\" )"
   ]
  },
  {
   "cell_type": "code",
   "execution_count": 49,
   "metadata": {},
   "outputs": [],
   "source": [
    "# categorical_features = ['Gender', 'Married', 'Dependents',\n",
    "#  'Education', 'Self_Employed', 'Property_Area', 'Loan_Status']"
   ]
  },
  {
   "cell_type": "code",
   "execution_count": 50,
   "metadata": {},
   "outputs": [],
   "source": [
    "# data.drop(columns=['gender', 'married', 'education','applicantIncome', 'coapplicantIncome', 'loanAmount'],inplace = True)\n",
    "\n",
    "#Encoding Categorical Variables\n",
    "\n",
    "# labelencoder=LabelEncoder()\n",
    "# for col in data.columns:\n",
    "#     data[col] = labelencoder.fit_transform(data[col])\n",
    "    \n",
    "#Now one hot encoding\n",
    "# data=pd.get_dummies(data, columns=['Gender', 'Married', 'Dependents','Education',\"Loan_Amount_Term\",'Self_Employed',\"Credit_History\",\"Property_Area\"],drop_first=False)\n",
    "                                   \n",
    "                                   "
   ]
  },
  {
   "cell_type": "code",
   "execution_count": 51,
   "metadata": {},
   "outputs": [],
   "source": [
    "X = data[[\"satisfactoryCreditHistory\", \"isMarried\", \"livesSemiurbal\", \"outcome\"]]\n",
    "# data.columns"
   ]
  },
  {
   "cell_type": "code",
   "execution_count": 52,
   "metadata": {},
   "outputs": [],
   "source": [
    "# X = data.drop(columns=['loanID', 'applicantIncome', 'coapplicantIncome', 'loanAmount','loanAmountTerm', \n",
    "#                        'totalIncome','isMale','has1Dependent', 'has2Dependents', 'has3+Dependents', \n",
    "#                        'hasNotGraduated','isSelfEmployed', 'livesSemiurbal', 'livesUrban'])"
   ]
  },
  {
   "cell_type": "code",
   "execution_count": 74,
   "metadata": {},
   "outputs": [
    {
     "data": {
      "text/plain": [
       "Index(['loanID', 'applicantIncome', 'coapplicantIncome', 'loanAmount',\n",
       "       'loanAmountTerm', 'satisfactoryCreditHistory', 'totalIncome',\n",
       "       'applicantIncomeLog', 'coapplicantIncomeLog', 'loanAmountLog',\n",
       "       'loanAmountTermLog', 'totalIncomeLog', 'isMale', 'isMarried',\n",
       "       'has1Dependent', 'has2Dependents', 'has3+Dependents', 'hasNotGraduated',\n",
       "       'isSelfEmployed', 'livesSemiurbal', 'livesUrban', 'outcome'],\n",
       "      dtype='object')"
      ]
     },
     "execution_count": 74,
     "metadata": {},
     "output_type": "execute_result"
    }
   ],
   "source": [
    "data.columns"
   ]
  },
  {
   "cell_type": "markdown",
   "metadata": {},
   "source": [
    "## train"
   ]
  },
  {
   "cell_type": "code",
   "execution_count": 53,
   "metadata": {},
   "outputs": [],
   "source": [
    "#Separating features and label\n",
    "y=X['outcome']\n",
    "X=X.drop(['outcome'],axis=1)\n",
    "\n",
    "X_train, X_test, y_train, y_test = model_selection.train_test_split(X,y,test_size=0.2,random_state=47)\n",
    "\n",
    "kfold = model_selection.StratifiedKFold(n_splits=3,shuffle=True, random_state=42)"
   ]
  },
  {
   "cell_type": "code",
   "execution_count": 54,
   "metadata": {},
   "outputs": [
    {
     "name": "stdout",
     "output_type": "stream",
     "text": [
      "Model LogisticRegression()\n",
      "Accuracy is 62.19512195121951\n",
      "Cross Val 62.89115646258503\n"
     ]
    },
    {
     "name": "stderr",
     "output_type": "stream",
     "text": [
      "Function plot_roc_curve is deprecated; Function `plot_roc_curve` is deprecated in 1.0 and will be removed in 1.2. Use one of the class methods: RocCurveDisplay.from_predictions or RocCurveDisplay.from_estimator.\n",
      "Function plot_roc_curve is deprecated; Function `plot_roc_curve` is deprecated in 1.0 and will be removed in 1.2. Use one of the class methods: RocCurveDisplay.from_predictions or RocCurveDisplay.from_estimator.\n"
     ]
    },
    {
     "data": {
      "text/plain": [
       "<Figure size 640x480 with 1 Axes>"
      ]
     },
     "metadata": {},
     "output_type": "display_data"
    },
    {
     "data": {
      "text/plain": [
       "<Figure size 640x480 with 1 Axes>"
      ]
     },
     "metadata": {},
     "output_type": "display_data"
    },
    {
     "data": {
      "text/plain": [
       "<Figure size 640x480 with 1 Axes>"
      ]
     },
     "metadata": {},
     "output_type": "display_data"
    },
    {
     "data": {
      "text/plain": [
       "<Figure size 640x480 with 1 Axes>"
      ]
     },
     "metadata": {},
     "output_type": "display_data"
    }
   ],
   "source": [
    "classify(LogisticRegression(), X, y)"
   ]
  },
  {
   "cell_type": "code",
   "execution_count": 55,
   "metadata": {},
   "outputs": [],
   "source": [
    "rss = 15\n",
    "clrs = []\n",
    "\n",
    "# clrs.append(AdaBoostClassifier(random_state=rss))\n",
    "# clrs.append(GradientBoostingClassifier(random_state=rss))\n",
    "# clrs.append(RandomForestClassifier(random_state=rss))\n",
    "clrs.append(LogisticRegression(random_state = rss))\n",
    "# clrs.append(ExtraTreesClassifier(random_state = rss))\n",
    "\n",
    "\n",
    "cv_results = []\n",
    "for clr in clrs :\n",
    "    cv_results.append(cross_val_score(clr, X_train, y_train , scoring = 'accuracy', cv = kfold, n_jobs=-1))\n",
    "\n",
    "cv_means = []\n",
    "cv_std = []\n",
    "for cv_result in cv_results:\n",
    "    cv_means.append(cv_result.mean())\n",
    "    cv_std.append(cv_result.std())\n",
    "    \n",
    "cv_df = pd.DataFrame({\"CrossVal_Score_Means\":cv_means,\"CrossValerrors\": cv_std,\n",
    "                      \"Algo\":[\"Logistic Regression\"\n",
    "#                               ,\"RandomForestClassifier\"\n",
    "#                               ,\"AdaBoostClassifier\"\n",
    "#                               ,\"Gradient Boosting\"\n",
    "#                               ,'ExtraTreesClassifier'\n",
    "                             ]})"
   ]
  },
  {
   "cell_type": "code",
   "execution_count": 56,
   "metadata": {},
   "outputs": [],
   "source": [
    "# g = sns.barplot(\"CrossVal_Score_Means\",\"Algo\",data = cv_df,orient = \"h\",**{'xerr':cv_std})\n",
    "# g.set_xlabel(\"Mean Accuracy\")\n",
    "# g = g.set_title(\"Cross validation scores\")\n",
    "# print(cv_df)"
   ]
  },
  {
   "cell_type": "code",
   "execution_count": 73,
   "metadata": {},
   "outputs": [
    {
     "data": {
      "text/plain": [
       "Index(['loanID', 'applicantIncome', 'coapplicantIncome', 'loanAmount',\n",
       "       'loanAmountTerm', 'satisfactoryCreditHistory', 'totalIncome',\n",
       "       'applicantIncomeLog', 'coapplicantIncomeLog', 'loanAmountLog',\n",
       "       'loanAmountTermLog', 'totalIncomeLog', 'isMale', 'isMarried',\n",
       "       'has1Dependent', 'has2Dependents', 'has3+Dependents', 'hasNotGraduated',\n",
       "       'isSelfEmployed', 'livesSemiurbal', 'livesUrban', 'outcome'],\n",
       "      dtype='object')"
      ]
     },
     "execution_count": 73,
     "metadata": {},
     "output_type": "execute_result"
    }
   ],
   "source": [
    "data.columns"
   ]
  },
  {
   "cell_type": "markdown",
   "metadata": {},
   "source": [
    "# Recourse"
   ]
  },
  {
   "cell_type": "code",
   "execution_count": 75,
   "metadata": {},
   "outputs": [
    {
     "data": {
      "text/html": [
       "<div>\n",
       "<style scoped>\n",
       "    .dataframe tbody tr th:only-of-type {\n",
       "        vertical-align: middle;\n",
       "    }\n",
       "\n",
       "    .dataframe tbody tr th {\n",
       "        vertical-align: top;\n",
       "    }\n",
       "\n",
       "    .dataframe thead th {\n",
       "        text-align: right;\n",
       "    }\n",
       "</style>\n",
       "<table border=\"1\" class=\"dataframe\">\n",
       "  <thead>\n",
       "    <tr style=\"text-align: right;\">\n",
       "      <th></th>\n",
       "      <th>loanID</th>\n",
       "      <th>applicantIncome</th>\n",
       "      <th>coapplicantIncome</th>\n",
       "      <th>loanAmount</th>\n",
       "      <th>loanAmountTerm</th>\n",
       "      <th>...</th>\n",
       "      <th>hasNotGraduated</th>\n",
       "      <th>isSelfEmployed</th>\n",
       "      <th>livesSemiurbal</th>\n",
       "      <th>livesUrban</th>\n",
       "      <th>outcome</th>\n",
       "    </tr>\n",
       "  </thead>\n",
       "  <tbody>\n",
       "    <tr>\n",
       "      <th>0</th>\n",
       "      <td>LP001002</td>\n",
       "      <td>5849</td>\n",
       "      <td>0.0</td>\n",
       "      <td>142.51153</td>\n",
       "      <td>360.0</td>\n",
       "      <td>...</td>\n",
       "      <td>0</td>\n",
       "      <td>0</td>\n",
       "      <td>0</td>\n",
       "      <td>1</td>\n",
       "      <td>1</td>\n",
       "    </tr>\n",
       "    <tr>\n",
       "      <th>1</th>\n",
       "      <td>LP001003</td>\n",
       "      <td>4583</td>\n",
       "      <td>1508.0</td>\n",
       "      <td>128.00000</td>\n",
       "      <td>360.0</td>\n",
       "      <td>...</td>\n",
       "      <td>0</td>\n",
       "      <td>0</td>\n",
       "      <td>0</td>\n",
       "      <td>0</td>\n",
       "      <td>0</td>\n",
       "    </tr>\n",
       "    <tr>\n",
       "      <th>2</th>\n",
       "      <td>LP001005</td>\n",
       "      <td>3000</td>\n",
       "      <td>0.0</td>\n",
       "      <td>66.00000</td>\n",
       "      <td>360.0</td>\n",
       "      <td>...</td>\n",
       "      <td>0</td>\n",
       "      <td>1</td>\n",
       "      <td>0</td>\n",
       "      <td>1</td>\n",
       "      <td>1</td>\n",
       "    </tr>\n",
       "    <tr>\n",
       "      <th>3</th>\n",
       "      <td>LP001006</td>\n",
       "      <td>2583</td>\n",
       "      <td>2358.0</td>\n",
       "      <td>120.00000</td>\n",
       "      <td>360.0</td>\n",
       "      <td>...</td>\n",
       "      <td>1</td>\n",
       "      <td>0</td>\n",
       "      <td>0</td>\n",
       "      <td>1</td>\n",
       "      <td>1</td>\n",
       "    </tr>\n",
       "    <tr>\n",
       "      <th>4</th>\n",
       "      <td>LP001008</td>\n",
       "      <td>6000</td>\n",
       "      <td>0.0</td>\n",
       "      <td>141.00000</td>\n",
       "      <td>360.0</td>\n",
       "      <td>...</td>\n",
       "      <td>0</td>\n",
       "      <td>0</td>\n",
       "      <td>0</td>\n",
       "      <td>1</td>\n",
       "      <td>1</td>\n",
       "    </tr>\n",
       "    <tr>\n",
       "      <th>...</th>\n",
       "      <td>...</td>\n",
       "      <td>...</td>\n",
       "      <td>...</td>\n",
       "      <td>...</td>\n",
       "      <td>...</td>\n",
       "      <td>...</td>\n",
       "      <td>...</td>\n",
       "      <td>...</td>\n",
       "      <td>...</td>\n",
       "      <td>...</td>\n",
       "      <td>...</td>\n",
       "    </tr>\n",
       "    <tr>\n",
       "      <th>976</th>\n",
       "      <td>LP002971</td>\n",
       "      <td>4009</td>\n",
       "      <td>1777.0</td>\n",
       "      <td>113.00000</td>\n",
       "      <td>360.0</td>\n",
       "      <td>...</td>\n",
       "      <td>1</td>\n",
       "      <td>1</td>\n",
       "      <td>0</td>\n",
       "      <td>1</td>\n",
       "      <td>0</td>\n",
       "    </tr>\n",
       "    <tr>\n",
       "      <th>977</th>\n",
       "      <td>LP002975</td>\n",
       "      <td>4158</td>\n",
       "      <td>709.0</td>\n",
       "      <td>115.00000</td>\n",
       "      <td>360.0</td>\n",
       "      <td>...</td>\n",
       "      <td>0</td>\n",
       "      <td>0</td>\n",
       "      <td>0</td>\n",
       "      <td>1</td>\n",
       "      <td>0</td>\n",
       "    </tr>\n",
       "    <tr>\n",
       "      <th>978</th>\n",
       "      <td>LP002980</td>\n",
       "      <td>3250</td>\n",
       "      <td>1993.0</td>\n",
       "      <td>126.00000</td>\n",
       "      <td>360.0</td>\n",
       "      <td>...</td>\n",
       "      <td>0</td>\n",
       "      <td>0</td>\n",
       "      <td>1</td>\n",
       "      <td>0</td>\n",
       "      <td>0</td>\n",
       "    </tr>\n",
       "    <tr>\n",
       "      <th>979</th>\n",
       "      <td>LP002986</td>\n",
       "      <td>5000</td>\n",
       "      <td>2393.0</td>\n",
       "      <td>158.00000</td>\n",
       "      <td>360.0</td>\n",
       "      <td>...</td>\n",
       "      <td>0</td>\n",
       "      <td>0</td>\n",
       "      <td>0</td>\n",
       "      <td>0</td>\n",
       "      <td>0</td>\n",
       "    </tr>\n",
       "    <tr>\n",
       "      <th>980</th>\n",
       "      <td>LP002989</td>\n",
       "      <td>9200</td>\n",
       "      <td>0.0</td>\n",
       "      <td>98.00000</td>\n",
       "      <td>180.0</td>\n",
       "      <td>...</td>\n",
       "      <td>0</td>\n",
       "      <td>1</td>\n",
       "      <td>0</td>\n",
       "      <td>0</td>\n",
       "      <td>0</td>\n",
       "    </tr>\n",
       "  </tbody>\n",
       "</table>\n",
       "<p>981 rows × 22 columns</p>\n",
       "</div>"
      ],
      "text/plain": [
       "       loanID  applicantIncome  coapplicantIncome  loanAmount  loanAmountTerm  \\\n",
       "0    LP001002             5849                0.0   142.51153           360.0   \n",
       "1    LP001003             4583             1508.0   128.00000           360.0   \n",
       "2    LP001005             3000                0.0    66.00000           360.0   \n",
       "3    LP001006             2583             2358.0   120.00000           360.0   \n",
       "4    LP001008             6000                0.0   141.00000           360.0   \n",
       "..        ...              ...                ...         ...             ...   \n",
       "976  LP002971             4009             1777.0   113.00000           360.0   \n",
       "977  LP002975             4158              709.0   115.00000           360.0   \n",
       "978  LP002980             3250             1993.0   126.00000           360.0   \n",
       "979  LP002986             5000             2393.0   158.00000           360.0   \n",
       "980  LP002989             9200                0.0    98.00000           180.0   \n",
       "\n",
       "     ...  hasNotGraduated  isSelfEmployed  livesSemiurbal  livesUrban  outcome  \n",
       "0    ...                0               0               0           1        1  \n",
       "1    ...                0               0               0           0        0  \n",
       "2    ...                0               1               0           1        1  \n",
       "3    ...                1               0               0           1        1  \n",
       "4    ...                0               0               0           1        1  \n",
       "..   ...              ...             ...             ...         ...      ...  \n",
       "976  ...                1               1               0           1        0  \n",
       "977  ...                0               0               0           1        0  \n",
       "978  ...                0               0               1           0        0  \n",
       "979  ...                0               0               0           0        0  \n",
       "980  ...                0               1               0           0        0  \n",
       "\n",
       "[981 rows x 22 columns]"
      ]
     },
     "execution_count": 75,
     "metadata": {},
     "output_type": "execute_result"
    }
   ],
   "source": [
    "data"
   ]
  },
  {
   "cell_type": "code",
   "execution_count": 78,
   "metadata": {},
   "outputs": [
    {
     "data": {
      "text/plain": [
       "Index(['loanID', 'applicantIncome', 'coapplicantIncome', 'loanAmount',\n",
       "       'loanAmountTerm', 'satisfactoryCreditHistory', 'totalIncome',\n",
       "       'applicantIncomeLog', 'coapplicantIncomeLog', 'loanAmountLog',\n",
       "       'loanAmountTermLog', 'totalIncomeLog', 'isMale', 'isMarried',\n",
       "       'has1Dependent', 'has2Dependents', 'has3+Dependents', 'hasNotGraduated',\n",
       "       'isSelfEmployed', 'livesSemiurbal', 'livesUrban', 'outcome'],\n",
       "      dtype='object')"
      ]
     },
     "execution_count": 78,
     "metadata": {},
     "output_type": "execute_result"
    }
   ],
   "source": [
    "data_path = os.path.join(\"..\",\"src\",\"data\", \"screening\", \"screening_data.csv\")\n",
    "data = pd.read_csv(data_path)\n",
    "data.columns"
   ]
  },
  {
   "cell_type": "code",
   "execution_count": 76,
   "metadata": {},
   "outputs": [
    {
     "ename": "KeyError",
     "evalue": "\"['Loan_ID'] not found in axis\"",
     "output_type": "error",
     "traceback": [
      "\u001b[0;31m---------------------------------------------------------------------------\u001b[0m",
      "\u001b[0;31mKeyError\u001b[0m                                  Traceback (most recent call last)",
      "\u001b[0;32m<ipython-input-76-6c41a6338e17>\u001b[0m in \u001b[0;36m<module>\u001b[0;34m\u001b[0m\n\u001b[1;32m      4\u001b[0m \u001b[0mdata\u001b[0m \u001b[0;34m=\u001b[0m \u001b[0mpd\u001b[0m\u001b[0;34m.\u001b[0m\u001b[0mread_csv\u001b[0m\u001b[0;34m(\u001b[0m\u001b[0mdata_path\u001b[0m\u001b[0;34m)\u001b[0m\u001b[0;34m\u001b[0m\u001b[0;34m\u001b[0m\u001b[0m\n\u001b[1;32m      5\u001b[0m \u001b[0;34m\u001b[0m\u001b[0m\n\u001b[0;32m----> 6\u001b[0;31m \u001b[0mX\u001b[0m \u001b[0;34m=\u001b[0m \u001b[0mdata\u001b[0m\u001b[0;34m.\u001b[0m\u001b[0mdrop\u001b[0m\u001b[0;34m(\u001b[0m\u001b[0mcolumns\u001b[0m\u001b[0;34m=\u001b[0m\u001b[0;34m[\u001b[0m\u001b[0;34m'Loan_ID'\u001b[0m\u001b[0;34m]\u001b[0m\u001b[0;34m)\u001b[0m\u001b[0;34m\u001b[0m\u001b[0;34m\u001b[0m\u001b[0m\n\u001b[0m\u001b[1;32m      7\u001b[0m \u001b[0;31m# clf = LogisticRegression(max_iter = 1000)\u001b[0m\u001b[0;34m\u001b[0m\u001b[0;34m\u001b[0m\u001b[0;34m\u001b[0m\u001b[0m\n\u001b[1;32m      8\u001b[0m \u001b[0;31m# clf.fit(X, y)\u001b[0m\u001b[0;34m\u001b[0m\u001b[0;34m\u001b[0m\u001b[0;34m\u001b[0m\u001b[0m\n",
      "\u001b[0;32m~/opt/anaconda3/lib/python3.8/site-packages/pandas/util/_decorators.py\u001b[0m in \u001b[0;36mwrapper\u001b[0;34m(*args, **kwargs)\u001b[0m\n\u001b[1;32m    309\u001b[0m                     \u001b[0mstacklevel\u001b[0m\u001b[0;34m=\u001b[0m\u001b[0mstacklevel\u001b[0m\u001b[0;34m,\u001b[0m\u001b[0;34m\u001b[0m\u001b[0;34m\u001b[0m\u001b[0m\n\u001b[1;32m    310\u001b[0m                 )\n\u001b[0;32m--> 311\u001b[0;31m             \u001b[0;32mreturn\u001b[0m \u001b[0mfunc\u001b[0m\u001b[0;34m(\u001b[0m\u001b[0;34m*\u001b[0m\u001b[0margs\u001b[0m\u001b[0;34m,\u001b[0m \u001b[0;34m**\u001b[0m\u001b[0mkwargs\u001b[0m\u001b[0;34m)\u001b[0m\u001b[0;34m\u001b[0m\u001b[0;34m\u001b[0m\u001b[0m\n\u001b[0m\u001b[1;32m    312\u001b[0m \u001b[0;34m\u001b[0m\u001b[0m\n\u001b[1;32m    313\u001b[0m         \u001b[0;32mreturn\u001b[0m \u001b[0mwrapper\u001b[0m\u001b[0;34m\u001b[0m\u001b[0;34m\u001b[0m\u001b[0m\n",
      "\u001b[0;32m~/opt/anaconda3/lib/python3.8/site-packages/pandas/core/frame.py\u001b[0m in \u001b[0;36mdrop\u001b[0;34m(self, labels, axis, index, columns, level, inplace, errors)\u001b[0m\n\u001b[1;32m   4904\u001b[0m                 \u001b[0mweight\u001b[0m  \u001b[0;36m1.0\u001b[0m     \u001b[0;36m0.8\u001b[0m\u001b[0;34m\u001b[0m\u001b[0;34m\u001b[0m\u001b[0m\n\u001b[1;32m   4905\u001b[0m         \"\"\"\n\u001b[0;32m-> 4906\u001b[0;31m         return super().drop(\n\u001b[0m\u001b[1;32m   4907\u001b[0m             \u001b[0mlabels\u001b[0m\u001b[0;34m=\u001b[0m\u001b[0mlabels\u001b[0m\u001b[0;34m,\u001b[0m\u001b[0;34m\u001b[0m\u001b[0;34m\u001b[0m\u001b[0m\n\u001b[1;32m   4908\u001b[0m             \u001b[0maxis\u001b[0m\u001b[0;34m=\u001b[0m\u001b[0maxis\u001b[0m\u001b[0;34m,\u001b[0m\u001b[0;34m\u001b[0m\u001b[0;34m\u001b[0m\u001b[0m\n",
      "\u001b[0;32m~/opt/anaconda3/lib/python3.8/site-packages/pandas/core/generic.py\u001b[0m in \u001b[0;36mdrop\u001b[0;34m(self, labels, axis, index, columns, level, inplace, errors)\u001b[0m\n\u001b[1;32m   4148\u001b[0m         \u001b[0;32mfor\u001b[0m \u001b[0maxis\u001b[0m\u001b[0;34m,\u001b[0m \u001b[0mlabels\u001b[0m \u001b[0;32min\u001b[0m \u001b[0maxes\u001b[0m\u001b[0;34m.\u001b[0m\u001b[0mitems\u001b[0m\u001b[0;34m(\u001b[0m\u001b[0;34m)\u001b[0m\u001b[0;34m:\u001b[0m\u001b[0;34m\u001b[0m\u001b[0;34m\u001b[0m\u001b[0m\n\u001b[1;32m   4149\u001b[0m             \u001b[0;32mif\u001b[0m \u001b[0mlabels\u001b[0m \u001b[0;32mis\u001b[0m \u001b[0;32mnot\u001b[0m \u001b[0;32mNone\u001b[0m\u001b[0;34m:\u001b[0m\u001b[0;34m\u001b[0m\u001b[0;34m\u001b[0m\u001b[0m\n\u001b[0;32m-> 4150\u001b[0;31m                 \u001b[0mobj\u001b[0m \u001b[0;34m=\u001b[0m \u001b[0mobj\u001b[0m\u001b[0;34m.\u001b[0m\u001b[0m_drop_axis\u001b[0m\u001b[0;34m(\u001b[0m\u001b[0mlabels\u001b[0m\u001b[0;34m,\u001b[0m \u001b[0maxis\u001b[0m\u001b[0;34m,\u001b[0m \u001b[0mlevel\u001b[0m\u001b[0;34m=\u001b[0m\u001b[0mlevel\u001b[0m\u001b[0;34m,\u001b[0m \u001b[0merrors\u001b[0m\u001b[0;34m=\u001b[0m\u001b[0merrors\u001b[0m\u001b[0;34m)\u001b[0m\u001b[0;34m\u001b[0m\u001b[0;34m\u001b[0m\u001b[0m\n\u001b[0m\u001b[1;32m   4151\u001b[0m \u001b[0;34m\u001b[0m\u001b[0m\n\u001b[1;32m   4152\u001b[0m         \u001b[0;32mif\u001b[0m \u001b[0minplace\u001b[0m\u001b[0;34m:\u001b[0m\u001b[0;34m\u001b[0m\u001b[0;34m\u001b[0m\u001b[0m\n",
      "\u001b[0;32m~/opt/anaconda3/lib/python3.8/site-packages/pandas/core/generic.py\u001b[0m in \u001b[0;36m_drop_axis\u001b[0;34m(self, labels, axis, level, errors)\u001b[0m\n\u001b[1;32m   4183\u001b[0m                 \u001b[0mnew_axis\u001b[0m \u001b[0;34m=\u001b[0m \u001b[0maxis\u001b[0m\u001b[0;34m.\u001b[0m\u001b[0mdrop\u001b[0m\u001b[0;34m(\u001b[0m\u001b[0mlabels\u001b[0m\u001b[0;34m,\u001b[0m \u001b[0mlevel\u001b[0m\u001b[0;34m=\u001b[0m\u001b[0mlevel\u001b[0m\u001b[0;34m,\u001b[0m \u001b[0merrors\u001b[0m\u001b[0;34m=\u001b[0m\u001b[0merrors\u001b[0m\u001b[0;34m)\u001b[0m\u001b[0;34m\u001b[0m\u001b[0;34m\u001b[0m\u001b[0m\n\u001b[1;32m   4184\u001b[0m             \u001b[0;32melse\u001b[0m\u001b[0;34m:\u001b[0m\u001b[0;34m\u001b[0m\u001b[0;34m\u001b[0m\u001b[0m\n\u001b[0;32m-> 4185\u001b[0;31m                 \u001b[0mnew_axis\u001b[0m \u001b[0;34m=\u001b[0m \u001b[0maxis\u001b[0m\u001b[0;34m.\u001b[0m\u001b[0mdrop\u001b[0m\u001b[0;34m(\u001b[0m\u001b[0mlabels\u001b[0m\u001b[0;34m,\u001b[0m \u001b[0merrors\u001b[0m\u001b[0;34m=\u001b[0m\u001b[0merrors\u001b[0m\u001b[0;34m)\u001b[0m\u001b[0;34m\u001b[0m\u001b[0;34m\u001b[0m\u001b[0m\n\u001b[0m\u001b[1;32m   4186\u001b[0m             \u001b[0mresult\u001b[0m \u001b[0;34m=\u001b[0m \u001b[0mself\u001b[0m\u001b[0;34m.\u001b[0m\u001b[0mreindex\u001b[0m\u001b[0;34m(\u001b[0m\u001b[0;34m**\u001b[0m\u001b[0;34m{\u001b[0m\u001b[0maxis_name\u001b[0m\u001b[0;34m:\u001b[0m \u001b[0mnew_axis\u001b[0m\u001b[0;34m}\u001b[0m\u001b[0;34m)\u001b[0m\u001b[0;34m\u001b[0m\u001b[0;34m\u001b[0m\u001b[0m\n\u001b[1;32m   4187\u001b[0m \u001b[0;34m\u001b[0m\u001b[0m\n",
      "\u001b[0;32m~/opt/anaconda3/lib/python3.8/site-packages/pandas/core/indexes/base.py\u001b[0m in \u001b[0;36mdrop\u001b[0;34m(self, labels, errors)\u001b[0m\n\u001b[1;32m   6015\u001b[0m         \u001b[0;32mif\u001b[0m \u001b[0mmask\u001b[0m\u001b[0;34m.\u001b[0m\u001b[0many\u001b[0m\u001b[0;34m(\u001b[0m\u001b[0;34m)\u001b[0m\u001b[0;34m:\u001b[0m\u001b[0;34m\u001b[0m\u001b[0;34m\u001b[0m\u001b[0m\n\u001b[1;32m   6016\u001b[0m             \u001b[0;32mif\u001b[0m \u001b[0merrors\u001b[0m \u001b[0;34m!=\u001b[0m \u001b[0;34m\"ignore\"\u001b[0m\u001b[0;34m:\u001b[0m\u001b[0;34m\u001b[0m\u001b[0;34m\u001b[0m\u001b[0m\n\u001b[0;32m-> 6017\u001b[0;31m                 \u001b[0;32mraise\u001b[0m \u001b[0mKeyError\u001b[0m\u001b[0;34m(\u001b[0m\u001b[0;34mf\"{labels[mask]} not found in axis\"\u001b[0m\u001b[0;34m)\u001b[0m\u001b[0;34m\u001b[0m\u001b[0;34m\u001b[0m\u001b[0m\n\u001b[0m\u001b[1;32m   6018\u001b[0m             \u001b[0mindexer\u001b[0m \u001b[0;34m=\u001b[0m \u001b[0mindexer\u001b[0m\u001b[0;34m[\u001b[0m\u001b[0;34m~\u001b[0m\u001b[0mmask\u001b[0m\u001b[0;34m]\u001b[0m\u001b[0;34m\u001b[0m\u001b[0;34m\u001b[0m\u001b[0m\n\u001b[1;32m   6019\u001b[0m         \u001b[0;32mreturn\u001b[0m \u001b[0mself\u001b[0m\u001b[0;34m.\u001b[0m\u001b[0mdelete\u001b[0m\u001b[0;34m(\u001b[0m\u001b[0mindexer\u001b[0m\u001b[0;34m)\u001b[0m\u001b[0;34m\u001b[0m\u001b[0;34m\u001b[0m\u001b[0m\n",
      "\u001b[0;31mKeyError\u001b[0m: \"['Loan_ID'] not found in axis\""
     ]
    }
   ],
   "source": [
    "# train a classifier\n",
    "\n",
    "data_path = os.path.join(\"..\",\"src\",\"data\", \"screening\", \"screening_data.csv\")\n",
    "data = pd.read_csv(data_path)\n",
    "\n",
    "X = data.drop(columns=['loadID', 'outcome'])\n",
    "y = data['outcome']\n",
    "\n",
    "# clf = LogisticRegression(max_iter = 1000)\n",
    "# clf.fit(X, y)\n",
    "# yhat = clf.predict(X)"
   ]
  },
  {
   "cell_type": "code",
   "execution_count": 65,
   "metadata": {},
   "outputs": [],
   "source": [
    "# customize the set of actions\n",
    "A = rs.ActionSet(X)  ## matrix of features. ActionSet will set bounds and step sizes by default"
   ]
  },
  {
   "cell_type": "code",
   "execution_count": 69,
   "metadata": {},
   "outputs": [
    {
     "data": {
      "text/plain": [
       "+---------------------------+-----------------+------------+------------+----------------+----------------+-----------+-----------+-----------+-----+-----+\n",
       "|                      name |   variable type | actionable | compatible | step direction | flip direction | grid size | step type | step size |  lb |  ub |\n",
       "+---------------------------+-----------------+------------+------------+----------------+----------------+-----------+-----------+-----------+-----+-----+\n",
       "| satisfactoryCreditHistory | <class 'float'> |       True |        nan |              0 |            nan |       101 |  relative |      0.01 | 0.0 | 1.0 |\n",
       "|                 isMarried |  <class 'bool'> |       True |        nan |              0 |            nan |         2 |  absolute |       1.0 | 0.0 | 1.0 |\n",
       "|            livesSemiurbal |  <class 'bool'> |       True |        nan |              0 |            nan |         2 |  absolute |       1.0 | 0.0 | 1.0 |\n",
       "+---------------------------+-----------------+------------+------------+----------------+----------------+-----------+-----------+-----------+-----+-----+"
      ]
     },
     "execution_count": 69,
     "metadata": {},
     "output_type": "execute_result"
    }
   ],
   "source": [
    "A"
   ]
  },
  {
   "cell_type": "code",
   "execution_count": null,
   "metadata": {},
   "outputs": [],
   "source": [
    "# specify immutable variables\n",
    "A['Married'].mutable = False\n",
    "\n",
    "# can only specify properties for multiple variables using a list\n",
    "A[['Age_lt_25', 'Age_in_25_to_40', 'Age_in_40_to_59', 'Age_geq_60']].mutable = False\n",
    "\n",
    "# education level\n",
    "A['EducationLevel'].step_direction = 1  ## force conditional immutability.\n",
    "A['EducationLevel'].step_size = 1  ## set step-size to a custom value.\n",
    "A['EducationLevel'].step_type = \"absolute\"  ## force conditional immutability.\n",
    "A['EducationLevel'].bounds = (0, 3)\n",
    "\n",
    "A['TotalMonthsOverdue'].step_size = 1  ## set step-size to a custom value.\n",
    "A['TotalMonthsOverdue'].step_type = \"absolute\"  ## discretize on absolute values of feature rather than percentile values\n",
    "A['TotalMonthsOverdue'].bounds = (0, 100)  ## set bounds to a custom value.\n",
    "\n",
    "## get model coefficients and align\n",
    "A.align(clf)  ## tells `ActionSet` which directions each feature should move in to produce positive change.\n",
    "\n",
    "# Get one individual\n",
    "i = np.flatnonzero(yhat <= 0).astype(int)[0]\n",
    "\n",
    "# build a flipset for one individual\n",
    "fs = rs.Flipset(x = X.values[i], action_set = A, clf = clf)\n",
    "fs.populate(enumeration_type = 'distinct_subsets', total_items = 10)\n",
    "fs.to_latex()\n",
    "fs.to_html()\n",
    "\n",
    "# Run Recourse Audit on Training Data\n",
    "auditor = rs.RecourseAuditor(A, coefficients = clf.coef_, intercept = clf.intercept_)\n",
    "audit_df = auditor.audit(X)  ## matrix of features over which we will perform the audit.\n",
    "\n",
    "## print mean feasibility and cost of recourse\n",
    "print(audit_df['feasible'].mean())\n",
    "print(audit_df['cost'].mean())\n",
    "print_recourse_audit_report(X, audit_df, y)\n",
    "# or produce additional information of cost of recourse by other variables\n",
    "# print_recourse_audit_report(X, audit_df, y, group_by = ['y', 'Married', 'EducationLevel'])\n"
   ]
  },
  {
   "cell_type": "code",
   "execution_count": null,
   "metadata": {},
   "outputs": [],
   "source": []
  },
  {
   "cell_type": "code",
   "execution_count": null,
   "metadata": {},
   "outputs": [],
   "source": []
  },
  {
   "cell_type": "code",
   "execution_count": null,
   "metadata": {},
   "outputs": [],
   "source": []
  },
  {
   "cell_type": "code",
   "execution_count": null,
   "metadata": {},
   "outputs": [],
   "source": []
  }
 ],
 "metadata": {
  "kernelspec": {
   "display_name": "Python 3 (ipykernel)",
   "language": "python",
   "name": "python3"
  },
  "language_info": {
   "codemirror_mode": {
    "name": "ipython",
    "version": 3
   },
   "file_extension": ".py",
   "mimetype": "text/x-python",
   "name": "python",
   "nbconvert_exporter": "python",
   "pygments_lexer": "ipython3",
   "version": "3.8.8"
  }
 },
 "nbformat": 4,
 "nbformat_minor": 2
}
